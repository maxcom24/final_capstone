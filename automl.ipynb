{
 "cells": [
  {
   "cell_type": "markdown",
   "metadata": {},
   "source": [
    "# Automated ML\n",
    "\n",
    "TODO: Import Dependencies. In the cell below, import all the dependencies that you will need to complete the project."
   ]
  },
  {
   "cell_type": "code",
   "execution_count": 24,
   "metadata": {
    "gather": {
     "logged": 1598423888013
    },
    "jupyter": {
     "outputs_hidden": false,
     "source_hidden": false
    },
    "nteract": {
     "transient": {
      "deleting": false
     }
    }
   },
   "outputs": [],
   "source": [
    "from azureml.core import Workspace, Experiment, Dataset\n",
    "from azureml.train.automl import AutoMLConfig\n",
    "from azureml.core.compute import AmlCompute, ComputeTarget\n",
    "from azureml.core.model import Model\n",
    "from azureml.widgets import RunDetails\n",
    "import pandas as pd\n",
    "import numpy as np\n"
   ]
  },
  {
   "cell_type": "markdown",
   "metadata": {},
   "source": [
    "## Dataset\n",
    "\n",
    "### Overview\n",
    "TODO: In this markdown cell, give an overview of the dataset you are using. Also mention the task you will be performing.\n",
    "\n",
    "\n",
    "TODO: Get data. In the cell below, write code to access the data you will be using in this project. Remember that the dataset needs to be external."
   ]
  },
  {
   "cell_type": "code",
   "execution_count": 11,
   "metadata": {
    "gather": {
     "logged": 1598423890461
    },
    "jupyter": {
     "outputs_hidden": false,
     "source_hidden": false
    },
    "nteract": {
     "transient": {
      "deleting": false
     }
    }
   },
   "outputs": [
    {
     "data": {
      "text/html": [
       "<div>\n",
       "<style scoped>\n",
       "    .dataframe tbody tr th:only-of-type {\n",
       "        vertical-align: middle;\n",
       "    }\n",
       "\n",
       "    .dataframe tbody tr th {\n",
       "        vertical-align: top;\n",
       "    }\n",
       "\n",
       "    .dataframe thead th {\n",
       "        text-align: right;\n",
       "    }\n",
       "</style>\n",
       "<table border=\"1\" class=\"dataframe\">\n",
       "  <thead>\n",
       "    <tr style=\"text-align: right;\">\n",
       "      <th></th>\n",
       "      <th>PassengerId</th>\n",
       "      <th>Survived</th>\n",
       "      <th>Pclass</th>\n",
       "      <th>Sex</th>\n",
       "      <th>Age</th>\n",
       "      <th>SibSp</th>\n",
       "      <th>Parch</th>\n",
       "      <th>Fare</th>\n",
       "      <th>Embarked</th>\n",
       "    </tr>\n",
       "  </thead>\n",
       "  <tbody>\n",
       "    <tr>\n",
       "      <th>0</th>\n",
       "      <td>1</td>\n",
       "      <td>0</td>\n",
       "      <td>3</td>\n",
       "      <td>male</td>\n",
       "      <td>22.0</td>\n",
       "      <td>1</td>\n",
       "      <td>0</td>\n",
       "      <td>7.2500</td>\n",
       "      <td>S</td>\n",
       "    </tr>\n",
       "    <tr>\n",
       "      <th>1</th>\n",
       "      <td>2</td>\n",
       "      <td>1</td>\n",
       "      <td>1</td>\n",
       "      <td>female</td>\n",
       "      <td>38.0</td>\n",
       "      <td>1</td>\n",
       "      <td>0</td>\n",
       "      <td>71.2833</td>\n",
       "      <td>C</td>\n",
       "    </tr>\n",
       "    <tr>\n",
       "      <th>2</th>\n",
       "      <td>3</td>\n",
       "      <td>1</td>\n",
       "      <td>3</td>\n",
       "      <td>female</td>\n",
       "      <td>26.0</td>\n",
       "      <td>0</td>\n",
       "      <td>0</td>\n",
       "      <td>7.9250</td>\n",
       "      <td>S</td>\n",
       "    </tr>\n",
       "    <tr>\n",
       "      <th>3</th>\n",
       "      <td>4</td>\n",
       "      <td>1</td>\n",
       "      <td>1</td>\n",
       "      <td>female</td>\n",
       "      <td>35.0</td>\n",
       "      <td>1</td>\n",
       "      <td>0</td>\n",
       "      <td>53.1000</td>\n",
       "      <td>S</td>\n",
       "    </tr>\n",
       "    <tr>\n",
       "      <th>4</th>\n",
       "      <td>5</td>\n",
       "      <td>0</td>\n",
       "      <td>3</td>\n",
       "      <td>male</td>\n",
       "      <td>35.0</td>\n",
       "      <td>0</td>\n",
       "      <td>0</td>\n",
       "      <td>8.0500</td>\n",
       "      <td>S</td>\n",
       "    </tr>\n",
       "  </tbody>\n",
       "</table>\n",
       "</div>"
      ],
      "text/plain": [
       "   PassengerId  Survived  Pclass     Sex   Age  SibSp  Parch     Fare Embarked\n",
       "0            1         0       3    male  22.0      1      0   7.2500        S\n",
       "1            2         1       1  female  38.0      1      0  71.2833        C\n",
       "2            3         1       3  female  26.0      0      0   7.9250        S\n",
       "3            4         1       1  female  35.0      1      0  53.1000        S\n",
       "4            5         0       3    male  35.0      0      0   8.0500        S"
      ]
     },
     "execution_count": 11,
     "metadata": {},
     "output_type": "execute_result"
    }
   ],
   "source": [
    "ws = Workspace.from_config()\n",
    "dataset = ws.datasets[\"titanic\"].drop_columns([\"Name\",\"Ticket\",\"PassengerID\",\"Cabin\"])\n",
    "dataset.take(5).to_pandas_dataframe()"
   ]
  },
  {
   "cell_type": "code",
   "execution_count": 12,
   "metadata": {},
   "outputs": [
    {
     "data": {
      "text/html": [
       "<div>\n",
       "<style scoped>\n",
       "    .dataframe tbody tr th:only-of-type {\n",
       "        vertical-align: middle;\n",
       "    }\n",
       "\n",
       "    .dataframe tbody tr th {\n",
       "        vertical-align: top;\n",
       "    }\n",
       "\n",
       "    .dataframe thead th {\n",
       "        text-align: right;\n",
       "    }\n",
       "</style>\n",
       "<table border=\"1\" class=\"dataframe\">\n",
       "  <thead>\n",
       "    <tr style=\"text-align: right;\">\n",
       "      <th></th>\n",
       "      <th>PassengerId</th>\n",
       "      <th>Survived</th>\n",
       "      <th>Pclass</th>\n",
       "      <th>Age</th>\n",
       "      <th>SibSp</th>\n",
       "      <th>Parch</th>\n",
       "      <th>Fare</th>\n",
       "    </tr>\n",
       "  </thead>\n",
       "  <tbody>\n",
       "    <tr>\n",
       "      <th>count</th>\n",
       "      <td>891.000000</td>\n",
       "      <td>891.000000</td>\n",
       "      <td>891.000000</td>\n",
       "      <td>714.000000</td>\n",
       "      <td>891.000000</td>\n",
       "      <td>891.000000</td>\n",
       "      <td>891.000000</td>\n",
       "    </tr>\n",
       "    <tr>\n",
       "      <th>mean</th>\n",
       "      <td>446.000000</td>\n",
       "      <td>0.383838</td>\n",
       "      <td>2.308642</td>\n",
       "      <td>29.699118</td>\n",
       "      <td>0.523008</td>\n",
       "      <td>0.381594</td>\n",
       "      <td>32.204208</td>\n",
       "    </tr>\n",
       "    <tr>\n",
       "      <th>std</th>\n",
       "      <td>257.353842</td>\n",
       "      <td>0.486592</td>\n",
       "      <td>0.836071</td>\n",
       "      <td>14.526497</td>\n",
       "      <td>1.102743</td>\n",
       "      <td>0.806057</td>\n",
       "      <td>49.693429</td>\n",
       "    </tr>\n",
       "    <tr>\n",
       "      <th>min</th>\n",
       "      <td>1.000000</td>\n",
       "      <td>0.000000</td>\n",
       "      <td>1.000000</td>\n",
       "      <td>0.420000</td>\n",
       "      <td>0.000000</td>\n",
       "      <td>0.000000</td>\n",
       "      <td>0.000000</td>\n",
       "    </tr>\n",
       "    <tr>\n",
       "      <th>25%</th>\n",
       "      <td>223.500000</td>\n",
       "      <td>0.000000</td>\n",
       "      <td>2.000000</td>\n",
       "      <td>20.125000</td>\n",
       "      <td>0.000000</td>\n",
       "      <td>0.000000</td>\n",
       "      <td>7.910400</td>\n",
       "    </tr>\n",
       "    <tr>\n",
       "      <th>50%</th>\n",
       "      <td>446.000000</td>\n",
       "      <td>0.000000</td>\n",
       "      <td>3.000000</td>\n",
       "      <td>28.000000</td>\n",
       "      <td>0.000000</td>\n",
       "      <td>0.000000</td>\n",
       "      <td>14.454200</td>\n",
       "    </tr>\n",
       "    <tr>\n",
       "      <th>75%</th>\n",
       "      <td>668.500000</td>\n",
       "      <td>1.000000</td>\n",
       "      <td>3.000000</td>\n",
       "      <td>38.000000</td>\n",
       "      <td>1.000000</td>\n",
       "      <td>0.000000</td>\n",
       "      <td>31.000000</td>\n",
       "    </tr>\n",
       "    <tr>\n",
       "      <th>max</th>\n",
       "      <td>891.000000</td>\n",
       "      <td>1.000000</td>\n",
       "      <td>3.000000</td>\n",
       "      <td>80.000000</td>\n",
       "      <td>8.000000</td>\n",
       "      <td>6.000000</td>\n",
       "      <td>512.329200</td>\n",
       "    </tr>\n",
       "  </tbody>\n",
       "</table>\n",
       "</div>"
      ],
      "text/plain": [
       "       PassengerId    Survived      Pclass         Age       SibSp  \\\n",
       "count   891.000000  891.000000  891.000000  714.000000  891.000000   \n",
       "mean    446.000000    0.383838    2.308642   29.699118    0.523008   \n",
       "std     257.353842    0.486592    0.836071   14.526497    1.102743   \n",
       "min       1.000000    0.000000    1.000000    0.420000    0.000000   \n",
       "25%     223.500000    0.000000    2.000000   20.125000    0.000000   \n",
       "50%     446.000000    0.000000    3.000000   28.000000    0.000000   \n",
       "75%     668.500000    1.000000    3.000000   38.000000    1.000000   \n",
       "max     891.000000    1.000000    3.000000   80.000000    8.000000   \n",
       "\n",
       "            Parch        Fare  \n",
       "count  891.000000  891.000000  \n",
       "mean     0.381594   32.204208  \n",
       "std      0.806057   49.693429  \n",
       "min      0.000000    0.000000  \n",
       "25%      0.000000    7.910400  \n",
       "50%      0.000000   14.454200  \n",
       "75%      0.000000   31.000000  \n",
       "max      6.000000  512.329200  "
      ]
     },
     "execution_count": 12,
     "metadata": {},
     "output_type": "execute_result"
    }
   ],
   "source": [
    "df = dataset.to_pandas_dataframe()\n",
    "df.describe()"
   ]
  },
  {
   "cell_type": "code",
   "execution_count": 13,
   "metadata": {},
   "outputs": [],
   "source": [
    "# choose a name for experiment\n",
    "experiment_name = 'predict_survival_run1'\n",
    "\n",
    "experiment=Experiment(ws, experiment_name)"
   ]
  },
  {
   "cell_type": "markdown",
   "metadata": {},
   "source": [
    "## AutoML Configuration\n",
    "\n",
    "TODO: Explain why you chose the automl settings and cofiguration you used below."
   ]
  },
  {
   "cell_type": "code",
   "execution_count": 14,
   "metadata": {
    "gather": {
     "logged": 1598429217746
    },
    "jupyter": {
     "outputs_hidden": false,
     "source_hidden": false
    },
    "nteract": {
     "transient": {
      "deleting": false
     }
    }
   },
   "outputs": [],
   "source": [
    "compute_target = ComputeTarget(ws,\"cluster1\")"
   ]
  },
  {
   "cell_type": "code",
   "execution_count": 15,
   "metadata": {},
   "outputs": [],
   "source": [
    "# TODO: Put your automl settings here\n",
    "automl_settings = {\n",
    "    \"experiment_timeout_minutes\": 20,\n",
    "    \"max_concurrent_iteration\": 4,\n",
    "    \"primary_metric\": \"AUC_weighted\"    \n",
    "}\n",
    "\n",
    "# TODO: Put your automl config here\n",
    "automl_config = AutoMLConfig(compute_target=compute_target,\n",
    "                            task=\"classification\",\n",
    "                            training_data=dataset,\n",
    "                            label_column_name=\"Survived\",\n",
    "                            featurization='auto'\n",
    "                            )"
   ]
  },
  {
   "cell_type": "code",
   "execution_count": 16,
   "metadata": {
    "gather": {
     "logged": 1598431107951
    },
    "jupyter": {
     "outputs_hidden": false,
     "source_hidden": false
    },
    "nteract": {
     "transient": {
      "deleting": false
     }
    }
   },
   "outputs": [
    {
     "name": "stdout",
     "output_type": "stream",
     "text": [
      "Submitting remote run.\n"
     ]
    },
    {
     "data": {
      "text/html": [
       "<table style=\"width:100%\"><tr><th>Experiment</th><th>Id</th><th>Type</th><th>Status</th><th>Details Page</th><th>Docs Page</th></tr><tr><td>predict_survival_run1</td><td>AutoML_403bfcca-9e31-499a-aac1-2ca5a9498287</td><td>automl</td><td>NotStarted</td><td><a href=\"https://ml.azure.com/runs/AutoML_403bfcca-9e31-499a-aac1-2ca5a9498287?wsid=/subscriptions/d7f39349-a66b-446e-aba6-0053c2cf1c11/resourcegroups/aml-quickstarts-145172/workspaces/quick-starts-ws-145172&amp;tid=660b3398-b80e-49d2-bc5b-ac1dc93b5254\" target=\"_blank\" rel=\"noopener\">Link to Azure Machine Learning studio</a></td><td><a href=\"https://docs.microsoft.com/en-us/python/api/overview/azure/ml/intro?view=azure-ml-py\" target=\"_blank\" rel=\"noopener\">Link to Documentation</a></td></tr></table>"
      ],
      "text/plain": [
       "<IPython.core.display.HTML object>"
      ]
     },
     "metadata": {},
     "output_type": "display_data"
    }
   ],
   "source": [
    "# TODO: Submit your experiment\n",
    "remote_run = experiment.submit(automl_config)"
   ]
  },
  {
   "cell_type": "code",
   "execution_count": null,
   "metadata": {},
   "outputs": [],
   "source": []
  },
  {
   "cell_type": "markdown",
   "metadata": {},
   "source": [
    "## Run Details\n",
    "\n",
    "OPTIONAL: Write about the different models trained and their performance. Why do you think some models did better than others?\n",
    "\n",
    "TODO: In the cell below, use the `RunDetails` widget to show the different experiments."
   ]
  },
  {
   "cell_type": "code",
   "execution_count": 19,
   "metadata": {
    "gather": {
     "logged": 1598431121770
    },
    "jupyter": {
     "outputs_hidden": false,
     "source_hidden": false
    },
    "nteract": {
     "transient": {
      "deleting": false
     }
    }
   },
   "outputs": [
    {
     "data": {
      "application/vnd.jupyter.widget-view+json": {
       "model_id": "7467f153bbf54a45b5807bf36c33ff96",
       "version_major": 2,
       "version_minor": 0
      },
      "text/plain": [
       "_AutoMLWidget(widget_settings={'childWidgetDisplay': 'popup', 'send_telemetry': False, 'log_level': 'INFO', 's…"
      ]
     },
     "metadata": {},
     "output_type": "display_data"
    },
    {
     "data": {
      "application/aml.mini.widget.v1": "{\"status\": \"Completed\", \"workbench_run_details_uri\": \"https://ml.azure.com/runs/AutoML_403bfcca-9e31-499a-aac1-2ca5a9498287?wsid=/subscriptions/d7f39349-a66b-446e-aba6-0053c2cf1c11/resourcegroups/aml-quickstarts-145172/workspaces/quick-starts-ws-145172&tid=660b3398-b80e-49d2-bc5b-ac1dc93b5254\", \"run_id\": \"AutoML_403bfcca-9e31-499a-aac1-2ca5a9498287\", \"run_properties\": {\"run_id\": \"AutoML_403bfcca-9e31-499a-aac1-2ca5a9498287\", \"created_utc\": \"2021-05-19T15:15:32.879965Z\", \"properties\": {\"num_iterations\": \"1000\", \"training_type\": \"TrainFull\", \"acquisition_function\": \"EI\", \"primary_metric\": \"accuracy\", \"train_split\": \"0\", \"acquisition_parameter\": \"0\", \"num_cross_validation\": null, \"target\": \"cluster1\", \"AMLSettingsJsonString\": \"{\\\"path\\\":null,\\\"name\\\":\\\"predict_survival_run1\\\",\\\"subscription_id\\\":\\\"d7f39349-a66b-446e-aba6-0053c2cf1c11\\\",\\\"resource_group\\\":\\\"aml-quickstarts-145172\\\",\\\"workspace_name\\\":\\\"quick-starts-ws-145172\\\",\\\"region\\\":\\\"southcentralus\\\",\\\"compute_target\\\":\\\"cluster1\\\",\\\"spark_service\\\":null,\\\"azure_service\\\":\\\"remote\\\",\\\"many_models\\\":false,\\\"pipeline_fetch_max_batch_size\\\":1,\\\"enable_batch_run\\\":false,\\\"enable_run_restructure\\\":false,\\\"start_auxiliary_runs_before_parent_complete\\\":false,\\\"iterations\\\":1000,\\\"primary_metric\\\":\\\"accuracy\\\",\\\"task_type\\\":\\\"classification\\\",\\\"data_script\\\":null,\\\"test_size\\\":0.0,\\\"validation_size\\\":0.0,\\\"n_cross_validations\\\":null,\\\"y_min\\\":null,\\\"y_max\\\":null,\\\"num_classes\\\":null,\\\"featurization\\\":\\\"auto\\\",\\\"_ignore_package_version_incompatibilities\\\":false,\\\"is_timeseries\\\":false,\\\"max_cores_per_iteration\\\":1,\\\"max_concurrent_iterations\\\":1,\\\"iteration_timeout_minutes\\\":null,\\\"mem_in_mb\\\":null,\\\"enforce_time_on_windows\\\":false,\\\"experiment_timeout_minutes\\\":8640,\\\"experiment_exit_score\\\":null,\\\"whitelist_models\\\":null,\\\"blacklist_algos\\\":[\\\"TensorFlowLinearClassifier\\\",\\\"TensorFlowDNN\\\"],\\\"supported_models\\\":[\\\"MultinomialNaiveBayes\\\",\\\"LinearSVM\\\",\\\"KNN\\\",\\\"SVM\\\",\\\"ExtremeRandomTrees\\\",\\\"TensorFlowLinearClassifier\\\",\\\"DecisionTree\\\",\\\"LogisticRegression\\\",\\\"XGBoostClassifier\\\",\\\"AveragedPerceptronClassifier\\\",\\\"TensorFlowDNN\\\",\\\"BernoulliNaiveBayes\\\",\\\"RandomForest\\\",\\\"GradientBoosting\\\",\\\"SGD\\\",\\\"LightGBM\\\"],\\\"private_models\\\":[],\\\"auto_blacklist\\\":true,\\\"blacklist_samples_reached\\\":false,\\\"exclude_nan_labels\\\":true,\\\"verbosity\\\":20,\\\"_debug_log\\\":\\\"azureml_automl.log\\\",\\\"show_warnings\\\":false,\\\"model_explainability\\\":true,\\\"service_url\\\":null,\\\"sdk_url\\\":null,\\\"sdk_packages\\\":null,\\\"enable_onnx_compatible_models\\\":false,\\\"enable_split_onnx_featurizer_estimator_models\\\":false,\\\"vm_type\\\":\\\"STANDARD_DS3_V2\\\",\\\"telemetry_verbosity\\\":20,\\\"send_telemetry\\\":true,\\\"enable_dnn\\\":false,\\\"scenario\\\":\\\"SDK-1.13.0\\\",\\\"environment_label\\\":null,\\\"save_mlflow\\\":false,\\\"force_text_dnn\\\":false,\\\"enable_feature_sweeping\\\":true,\\\"enable_early_stopping\\\":true,\\\"early_stopping_n_iters\\\":10,\\\"metrics\\\":null,\\\"enable_metric_confidence\\\":false,\\\"enable_ensembling\\\":true,\\\"enable_stack_ensembling\\\":true,\\\"ensemble_iterations\\\":15,\\\"enable_tf\\\":false,\\\"enable_subsampling\\\":null,\\\"subsample_seed\\\":null,\\\"enable_nimbusml\\\":false,\\\"enable_streaming\\\":false,\\\"force_streaming\\\":false,\\\"track_child_runs\\\":true,\\\"allowed_private_models\\\":[],\\\"label_column_name\\\":\\\"Survived\\\",\\\"weight_column_name\\\":null,\\\"cv_split_column_names\\\":null,\\\"enable_local_managed\\\":false,\\\"_local_managed_run_id\\\":null,\\\"cost_mode\\\":1,\\\"lag_length\\\":0,\\\"metric_operation\\\":\\\"maximize\\\",\\\"preprocess\\\":true}\", \"DataPrepJsonString\": \"{\\\\\\\"training_data\\\\\\\": {\\\\\\\"datasetId\\\\\\\": \\\\\\\"9b248255-4add-4a38-b5b5-3d2d0b1afc88\\\\\\\"}, \\\\\\\"datasets\\\\\\\": 0}\", \"EnableSubsampling\": null, \"runTemplate\": \"AutoML\", \"azureml.runsource\": \"automl\", \"display_task_type\": \"classification\", \"dependencies_versions\": \"{\\\"azureml-widgets\\\": \\\"1.27.0\\\", \\\"azureml-train\\\": \\\"1.27.0\\\", \\\"azureml-train-restclients-hyperdrive\\\": \\\"1.27.0\\\", \\\"azureml-train-core\\\": \\\"1.27.0\\\", \\\"azureml-train-automl\\\": \\\"1.27.0\\\", \\\"azureml-train-automl-runtime\\\": \\\"1.27.0\\\", \\\"azureml-train-automl-client\\\": \\\"1.27.0\\\", \\\"azureml-tensorboard\\\": \\\"1.27.0\\\", \\\"azureml-telemetry\\\": \\\"1.27.0\\\", \\\"azureml-sdk\\\": \\\"1.27.0\\\", \\\"azureml-samples\\\": \\\"0+unknown\\\", \\\"azureml-pipeline\\\": \\\"1.27.0\\\", \\\"azureml-pipeline-steps\\\": \\\"1.27.0\\\", \\\"azureml-pipeline-core\\\": \\\"1.27.0\\\", \\\"azureml-opendatasets\\\": \\\"1.27.0\\\", \\\"azureml-model-management-sdk\\\": \\\"1.0.1b6.post1\\\", \\\"azureml-mlflow\\\": \\\"1.27.0\\\", \\\"azureml-interpret\\\": \\\"1.27.0\\\", \\\"azureml-explain-model\\\": \\\"1.27.0\\\", \\\"azureml-defaults\\\": \\\"1.27.0\\\", \\\"azureml-dataset-runtime\\\": \\\"1.27.0\\\", \\\"azureml-dataprep\\\": \\\"2.14.2\\\", \\\"azureml-dataprep-rslex\\\": \\\"1.12.1\\\", \\\"azureml-dataprep-native\\\": \\\"33.0.0\\\", \\\"azureml-datadrift\\\": \\\"1.27.0\\\", \\\"azureml-core\\\": \\\"1.27.0\\\", \\\"azureml-contrib-services\\\": \\\"1.27.0\\\", \\\"azureml-contrib-server\\\": \\\"1.27.0\\\", \\\"azureml-contrib-reinforcementlearning\\\": \\\"1.27.0\\\", \\\"azureml-contrib-pipeline-steps\\\": \\\"1.27.0\\\", \\\"azureml-contrib-notebook\\\": \\\"1.27.0\\\", \\\"azureml-contrib-gbdt\\\": \\\"1.27.0\\\", \\\"azureml-contrib-fairness\\\": \\\"1.27.0\\\", \\\"azureml-contrib-dataset\\\": \\\"1.27.0\\\", \\\"azureml-cli-common\\\": \\\"1.27.0\\\", \\\"azureml-automl-runtime\\\": \\\"1.27.0\\\", \\\"azureml-automl-dnn-nlp\\\": \\\"1.27.0\\\", \\\"azureml-automl-core\\\": \\\"1.27.0\\\", \\\"azureml-accel-models\\\": \\\"1.27.0\\\"}\", \"_aml_system_scenario_identification\": \"Remote.Parent\", \"ClientType\": \"SDK\", \"environment_cpu_name\": \"AzureML-AutoML\", \"environment_cpu_label\": \"prod\", \"environment_gpu_name\": \"AzureML-AutoML-GPU\", \"environment_gpu_label\": \"prod\", \"root_attribution\": \"automl\", \"attribution\": \"AutoML\", \"Orchestrator\": \"AutoML\", \"CancelUri\": \"https://southcentralus.api.azureml.ms/jasmine/v1.0/subscriptions/d7f39349-a66b-446e-aba6-0053c2cf1c11/resourceGroups/aml-quickstarts-145172/providers/Microsoft.MachineLearningServices/workspaces/quick-starts-ws-145172/experimentids/bafb465d-9031-4d20-96a3-6cfca6bd28d0/cancel/AutoML_403bfcca-9e31-499a-aac1-2ca5a9498287\", \"ClientSdkVersion\": \"1.27.0.post1\", \"snapshotId\": \"00000000-0000-0000-0000-000000000000\", \"SetupRunId\": \"AutoML_403bfcca-9e31-499a-aac1-2ca5a9498287_setup\", \"SetupRunContainerId\": \"dcid.AutoML_403bfcca-9e31-499a-aac1-2ca5a9498287_setup\", \"FeaturizationRunJsonPath\": \"featurizer_container.json\", \"FeaturizationRunId\": \"AutoML_403bfcca-9e31-499a-aac1-2ca5a9498287_featurize\", \"ProblemInfoJsonString\": \"{\\\"dataset_num_categorical\\\": 0, \\\"is_sparse\\\": true, \\\"subsampling\\\": false, \\\"dataset_classes\\\": 2, \\\"dataset_features\\\": 26, \\\"dataset_samples\\\": 891, \\\"single_frequency_class_detected\\\": false}\", \"ModelExplainRunId\": \"AutoML_403bfcca-9e31-499a-aac1-2ca5a9498287_ModelExplain\"}, \"tags\": {\"model_explain_run\": \"best_run\", \"_aml_system_azureml.automlComponent\": \"AutoML\", \"pipeline_id\": \"\", \"score\": \"\", \"predicted_cost\": \"\", \"fit_time\": \"\", \"training_percent\": \"\", \"iteration\": \"\", \"run_preprocessor\": \"\", \"run_algorithm\": \"\", \"dynamic_whitelisting_iterations\": \"<25>;<30>;<35>;<40>;\", \"automl_best_child_run_id\": \"AutoML_403bfcca-9e31-499a-aac1-2ca5a9498287_44\", \"model_explain_best_run_child_id\": \"AutoML_403bfcca-9e31-499a-aac1-2ca5a9498287_44\"}, \"end_time_utc\": \"2021-05-19T16:07:58.156301Z\", \"status\": \"Completed\", \"log_files\": {}, \"log_groups\": [], \"run_duration\": \"0:52:25\", \"run_number\": \"1\", \"run_queued_details\": {\"status\": \"Completed\", \"details\": null}}, \"child_runs\": [{\"run_id\": \"AutoML_403bfcca-9e31-499a-aac1-2ca5a9498287_0\", \"run_number\": 5, \"metric\": null, \"status\": \"Completed\", \"run_type\": \"azureml.scriptrun\", \"training_percent\": \"100\", \"start_time\": \"2021-05-19T15:19:47.137504Z\", \"end_time\": \"2021-05-19T15:20:33.332414Z\", \"created_time\": \"2021-05-19T15:19:32.666052Z\", \"created_time_dt\": \"2021-05-19T15:19:32.666052Z\", \"duration\": \"0:01:00\", \"iteration\": \"0\", \"goal\": \"accuracy_max\", \"run_name\": \"MaxAbsScaler, LightGBM\", \"run_properties\": \"copy=True\", \"primary_metric\": 0.79910112, \"best_metric\": 0.79910112}, {\"run_id\": \"AutoML_403bfcca-9e31-499a-aac1-2ca5a9498287_1\", \"run_number\": 6, \"metric\": null, \"status\": \"Completed\", \"run_type\": \"azureml.scriptrun\", \"training_percent\": \"100\", \"start_time\": \"2021-05-19T15:20:46.47151Z\", \"end_time\": \"2021-05-19T15:21:31.967584Z\", \"created_time\": \"2021-05-19T15:20:34.284147Z\", \"created_time_dt\": \"2021-05-19T15:20:34.284147Z\", \"duration\": \"0:00:57\", \"iteration\": \"1\", \"goal\": \"accuracy_max\", \"run_name\": \"MaxAbsScaler, XGBoostClassifier\", \"run_properties\": \"copy=True\", \"primary_metric\": 0.81481898, \"best_metric\": 0.81481898}, {\"run_id\": \"AutoML_403bfcca-9e31-499a-aac1-2ca5a9498287_2\", \"run_number\": 7, \"metric\": null, \"status\": \"Completed\", \"run_type\": \"azureml.scriptrun\", \"training_percent\": \"100\", \"start_time\": \"2021-05-19T15:21:48.199959Z\", \"end_time\": \"2021-05-19T15:22:34.374861Z\", \"created_time\": \"2021-05-19T15:21:33.932446Z\", \"created_time_dt\": \"2021-05-19T15:21:33.932446Z\", \"duration\": \"0:01:00\", \"iteration\": \"2\", \"goal\": \"accuracy_max\", \"run_name\": \"MaxAbsScaler, RandomForest\", \"run_properties\": \"copy=True\", \"primary_metric\": 0.79907615, \"best_metric\": 0.81481898}, {\"run_id\": \"AutoML_403bfcca-9e31-499a-aac1-2ca5a9498287_3\", \"run_number\": 8, \"metric\": null, \"status\": \"Completed\", \"run_type\": \"azureml.scriptrun\", \"training_percent\": \"100\", \"start_time\": \"2021-05-19T15:22:48.945771Z\", \"end_time\": \"2021-05-19T15:23:33.74729Z\", \"created_time\": \"2021-05-19T15:22:38.537366Z\", \"created_time_dt\": \"2021-05-19T15:22:38.537366Z\", \"duration\": \"0:00:55\", \"iteration\": \"3\", \"goal\": \"accuracy_max\", \"run_name\": \"MaxAbsScaler, RandomForest\", \"run_properties\": \"copy=True\", \"primary_metric\": 0.77546816, \"best_metric\": 0.81481898}, {\"run_id\": \"AutoML_403bfcca-9e31-499a-aac1-2ca5a9498287_4\", \"run_number\": 9, \"metric\": null, \"status\": \"Completed\", \"run_type\": \"azureml.scriptrun\", \"training_percent\": \"100\", \"start_time\": \"2021-05-19T15:23:49.049931Z\", \"end_time\": \"2021-05-19T15:24:33.763206Z\", \"created_time\": \"2021-05-19T15:23:36.304483Z\", \"created_time_dt\": \"2021-05-19T15:23:36.304483Z\", \"duration\": \"0:00:57\", \"iteration\": \"4\", \"goal\": \"accuracy_max\", \"run_name\": \"MaxAbsScaler, RandomForest\", \"run_properties\": \"copy=True\", \"primary_metric\": 0.80248439, \"best_metric\": 0.81481898}, {\"run_id\": \"AutoML_403bfcca-9e31-499a-aac1-2ca5a9498287_5\", \"run_number\": 10, \"metric\": null, \"status\": \"Completed\", \"run_type\": \"azureml.scriptrun\", \"training_percent\": \"100\", \"start_time\": \"2021-05-19T15:24:46.389672Z\", \"end_time\": \"2021-05-19T15:25:31.183203Z\", \"created_time\": \"2021-05-19T15:24:36.521424Z\", \"created_time_dt\": \"2021-05-19T15:24:36.521424Z\", \"duration\": \"0:00:54\", \"iteration\": \"5\", \"goal\": \"accuracy_max\", \"run_name\": \"MaxAbsScaler, RandomForest\", \"run_properties\": \"copy=True\", \"primary_metric\": 0.76094881, \"best_metric\": 0.81481898}, {\"run_id\": \"AutoML_403bfcca-9e31-499a-aac1-2ca5a9498287_6\", \"run_number\": 11, \"metric\": null, \"status\": \"Completed\", \"run_type\": \"azureml.scriptrun\", \"training_percent\": \"100\", \"start_time\": \"2021-05-19T15:25:44.982216Z\", \"end_time\": \"2021-05-19T15:26:30.581283Z\", \"created_time\": \"2021-05-19T15:25:33.068999Z\", \"created_time_dt\": \"2021-05-19T15:25:33.068999Z\", \"duration\": \"0:00:57\", \"iteration\": \"6\", \"goal\": \"accuracy_max\", \"run_name\": \"SparseNormalizer, XGBoostClassifier\", \"run_properties\": \"<azureml.automl.runtime.shared.model_wrappers.SparseNormalizer object at 0x7fc5837c9438\", \"primary_metric\": 0.79569288, \"best_metric\": 0.81481898}, {\"run_id\": \"AutoML_403bfcca-9e31-499a-aac1-2ca5a9498287_7\", \"run_number\": 12, \"metric\": null, \"status\": \"Completed\", \"run_type\": \"azureml.scriptrun\", \"training_percent\": \"100\", \"start_time\": \"2021-05-19T15:26:49.511902Z\", \"end_time\": \"2021-05-19T15:27:45.58822Z\", \"created_time\": \"2021-05-19T15:26:33.089386Z\", \"created_time_dt\": \"2021-05-19T15:26:33.089386Z\", \"duration\": \"0:01:12\", \"iteration\": \"7\", \"goal\": \"accuracy_max\", \"run_name\": \"MaxAbsScaler, RandomForest\", \"run_properties\": \"copy=True\", \"primary_metric\": 0.74515605, \"best_metric\": 0.81481898}, {\"run_id\": \"AutoML_403bfcca-9e31-499a-aac1-2ca5a9498287_8\", \"run_number\": 13, \"metric\": null, \"status\": \"Completed\", \"run_type\": \"azureml.scriptrun\", \"training_percent\": \"100\", \"start_time\": \"2021-05-19T15:28:02.435997Z\", \"end_time\": \"2021-05-19T15:28:48.582281Z\", \"created_time\": \"2021-05-19T15:27:47.610909Z\", \"created_time_dt\": \"2021-05-19T15:27:47.610909Z\", \"duration\": \"0:01:00\", \"iteration\": \"8\", \"goal\": \"accuracy_max\", \"run_name\": \"SparseNormalizer, LightGBM\", \"run_properties\": \"<azureml.automl.runtime.shared.model_wrappers.SparseNormalizer object at 0x7f650ae92cc0\", \"primary_metric\": 0.79570537, \"best_metric\": 0.81481898}, {\"run_id\": \"AutoML_403bfcca-9e31-499a-aac1-2ca5a9498287_9\", \"run_number\": 14, \"metric\": null, \"status\": \"Completed\", \"run_type\": \"azureml.scriptrun\", \"training_percent\": \"100\", \"start_time\": \"2021-05-19T15:29:03.084501Z\", \"end_time\": \"2021-05-19T15:29:48.846908Z\", \"created_time\": \"2021-05-19T15:28:50.469912Z\", \"created_time_dt\": \"2021-05-19T15:28:50.469912Z\", \"duration\": \"0:00:58\", \"iteration\": \"9\", \"goal\": \"accuracy_max\", \"run_name\": \"MaxAbsScaler, LogisticRegression\", \"run_properties\": \"copy=True\", \"primary_metric\": 0.8080774, \"best_metric\": 0.81481898}, {\"run_id\": \"AutoML_403bfcca-9e31-499a-aac1-2ca5a9498287_10\", \"run_number\": 15, \"metric\": null, \"status\": \"Completed\", \"run_type\": \"azureml.scriptrun\", \"training_percent\": \"100\", \"start_time\": \"2021-05-19T15:30:03.137783Z\", \"end_time\": \"2021-05-19T15:30:53.647699Z\", \"created_time\": \"2021-05-19T15:29:50.772864Z\", \"created_time_dt\": \"2021-05-19T15:29:50.772864Z\", \"duration\": \"0:01:02\", \"iteration\": \"10\", \"goal\": \"accuracy_max\", \"run_name\": \"MaxAbsScaler, RandomForest\", \"run_properties\": \"copy=True\", \"primary_metric\": 0.78675406, \"best_metric\": 0.81481898}, {\"run_id\": \"AutoML_403bfcca-9e31-499a-aac1-2ca5a9498287_11\", \"run_number\": 16, \"metric\": null, \"status\": \"Completed\", \"run_type\": \"azureml.scriptrun\", \"training_percent\": \"100\", \"start_time\": \"2021-05-19T15:31:08.94171Z\", \"end_time\": \"2021-05-19T15:31:57.438326Z\", \"created_time\": \"2021-05-19T15:30:55.552037Z\", \"created_time_dt\": \"2021-05-19T15:30:55.552037Z\", \"duration\": \"0:01:01\", \"iteration\": \"11\", \"goal\": \"accuracy_max\", \"run_name\": \"StandardScalerWrapper, ExtremeRandomTrees\", \"run_properties\": \"<azureml.automl.runtime.shared.model_wrappers.StandardScalerWrapper object at 0x7f1d357c33c8\", \"primary_metric\": 0.76762797, \"best_metric\": 0.81481898}, {\"run_id\": \"AutoML_403bfcca-9e31-499a-aac1-2ca5a9498287_12\", \"run_number\": 17, \"metric\": null, \"status\": \"Completed\", \"run_type\": \"azureml.scriptrun\", \"training_percent\": \"100\", \"start_time\": \"2021-05-19T15:32:14.274289Z\", \"end_time\": \"2021-05-19T15:32:59.729598Z\", \"created_time\": \"2021-05-19T15:32:00.218036Z\", \"created_time_dt\": \"2021-05-19T15:32:00.218036Z\", \"duration\": \"0:00:59\", \"iteration\": \"12\", \"goal\": \"accuracy_max\", \"run_name\": \"SparseNormalizer, XGBoostClassifier\", \"run_properties\": \"<azureml.automl.runtime.shared.model_wrappers.SparseNormalizer object at 0x7f0cb0494048\", \"primary_metric\": 0.79910112, \"best_metric\": 0.81481898}, {\"run_id\": \"AutoML_403bfcca-9e31-499a-aac1-2ca5a9498287_13\", \"run_number\": 18, \"metric\": null, \"status\": \"Completed\", \"run_type\": \"azureml.scriptrun\", \"training_percent\": \"100\", \"start_time\": \"2021-05-19T15:33:13.910128Z\", \"end_time\": \"2021-05-19T15:33:56.570213Z\", \"created_time\": \"2021-05-19T15:33:01.404419Z\", \"created_time_dt\": \"2021-05-19T15:33:01.404419Z\", \"duration\": \"0:00:55\", \"iteration\": \"13\", \"goal\": \"accuracy_max\", \"run_name\": \"StandardScalerWrapper, RandomForest\", \"run_properties\": \"<azureml.automl.runtime.shared.model_wrappers.StandardScalerWrapper object at 0x7fa5ffbb85c0\", \"primary_metric\": 0.80916355, \"best_metric\": 0.81481898}, {\"run_id\": \"AutoML_403bfcca-9e31-499a-aac1-2ca5a9498287_14\", \"run_number\": 19, \"metric\": null, \"status\": \"Completed\", \"run_type\": \"azureml.scriptrun\", \"training_percent\": \"100\", \"start_time\": \"2021-05-19T15:34:14.739397Z\", \"end_time\": \"2021-05-19T15:35:04.650095Z\", \"created_time\": \"2021-05-19T15:33:58.330145Z\", \"created_time_dt\": \"2021-05-19T15:33:58.330145Z\", \"duration\": \"0:01:06\", \"iteration\": \"14\", \"goal\": \"accuracy_max\", \"run_name\": \"StandardScalerWrapper, LogisticRegression\", \"run_properties\": \"<azureml.automl.runtime.shared.model_wrappers.StandardScalerWrapper object at 0x7f2c4b894fd0\", \"primary_metric\": 0.80917603, \"best_metric\": 0.81481898}, {\"run_id\": \"AutoML_403bfcca-9e31-499a-aac1-2ca5a9498287_15\", \"run_number\": 20, \"metric\": null, \"status\": \"Completed\", \"run_type\": \"azureml.scriptrun\", \"training_percent\": \"100\", \"start_time\": \"2021-05-19T15:35:21.765608Z\", \"end_time\": \"2021-05-19T15:36:05.207985Z\", \"created_time\": \"2021-05-19T15:35:06.941424Z\", \"created_time_dt\": \"2021-05-19T15:35:06.941424Z\", \"duration\": \"0:00:58\", \"iteration\": \"15\", \"goal\": \"accuracy_max\", \"run_name\": \"SparseNormalizer, XGBoostClassifier\", \"run_properties\": \"<azureml.automl.runtime.shared.model_wrappers.SparseNormalizer object at 0x7f65a5e42cc0\", \"primary_metric\": 0.80802747, \"best_metric\": 0.81481898}, {\"run_id\": \"AutoML_403bfcca-9e31-499a-aac1-2ca5a9498287_16\", \"run_number\": 21, \"metric\": null, \"status\": \"Completed\", \"run_type\": \"azureml.scriptrun\", \"training_percent\": \"100\", \"start_time\": \"2021-05-19T15:36:21.469804Z\", \"end_time\": \"2021-05-19T15:37:10.611544Z\", \"created_time\": \"2021-05-19T15:36:07.135465Z\", \"created_time_dt\": \"2021-05-19T15:36:07.135465Z\", \"duration\": \"0:01:03\", \"iteration\": \"16\", \"goal\": \"accuracy_max\", \"run_name\": \"StandardScalerWrapper, LightGBM\", \"run_properties\": \"<azureml.automl.runtime.shared.model_wrappers.StandardScalerWrapper object at 0x7f54d15a7048\", \"primary_metric\": 0.78670412, \"best_metric\": 0.81481898}, {\"run_id\": \"AutoML_403bfcca-9e31-499a-aac1-2ca5a9498287_17\", \"run_number\": 22, \"metric\": null, \"status\": \"Completed\", \"run_type\": \"azureml.scriptrun\", \"training_percent\": \"100\", \"start_time\": \"2021-05-19T15:37:26.481927Z\", \"end_time\": \"2021-05-19T15:38:12.062807Z\", \"created_time\": \"2021-05-19T15:37:13.746337Z\", \"created_time_dt\": \"2021-05-19T15:37:13.746337Z\", \"duration\": \"0:00:58\", \"iteration\": \"17\", \"goal\": \"accuracy_max\", \"run_name\": \"StandardScalerWrapper, RandomForest\", \"run_properties\": \"<azureml.automl.runtime.shared.model_wrappers.StandardScalerWrapper object at 0x7f32ebd594a8\", \"primary_metric\": 0.77666667, \"best_metric\": 0.81481898}, {\"run_id\": \"AutoML_403bfcca-9e31-499a-aac1-2ca5a9498287_18\", \"run_number\": 23, \"metric\": null, \"status\": \"Completed\", \"run_type\": \"azureml.scriptrun\", \"training_percent\": \"100\", \"start_time\": \"2021-05-19T15:38:28.807216Z\", \"end_time\": \"2021-05-19T15:39:18.015608Z\", \"created_time\": \"2021-05-19T15:38:14.020124Z\", \"created_time_dt\": \"2021-05-19T15:38:14.020124Z\", \"duration\": \"0:01:03\", \"iteration\": \"18\", \"goal\": \"accuracy_max\", \"run_name\": \"MaxAbsScaler, LightGBM\", \"run_properties\": \"copy=True\", \"primary_metric\": 0.77548065, \"best_metric\": 0.81481898}, {\"run_id\": \"AutoML_403bfcca-9e31-499a-aac1-2ca5a9498287_19\", \"run_number\": 24, \"metric\": null, \"status\": \"Completed\", \"run_type\": \"azureml.scriptrun\", \"training_percent\": \"100\", \"start_time\": \"2021-05-19T15:39:32.471971Z\", \"end_time\": \"2021-05-19T15:40:17.97543Z\", \"created_time\": \"2021-05-19T15:39:20.106728Z\", \"created_time_dt\": \"2021-05-19T15:39:20.106728Z\", \"duration\": \"0:00:57\", \"iteration\": \"19\", \"goal\": \"accuracy_max\", \"run_name\": \"MaxAbsScaler, LightGBM\", \"run_properties\": \"copy=True\", \"primary_metric\": 0.80129838, \"best_metric\": 0.81481898}, {\"run_id\": \"AutoML_403bfcca-9e31-499a-aac1-2ca5a9498287_20\", \"run_number\": 25, \"metric\": null, \"status\": \"Completed\", \"run_type\": \"azureml.scriptrun\", \"training_percent\": \"100\", \"start_time\": \"2021-05-19T15:40:36.129274Z\", \"end_time\": \"2021-05-19T15:41:20.142684Z\", \"created_time\": \"2021-05-19T15:40:19.753607Z\", \"created_time_dt\": \"2021-05-19T15:40:19.753607Z\", \"duration\": \"0:01:00\", \"iteration\": \"20\", \"goal\": \"accuracy_max\", \"run_name\": \"SparseNormalizer, LightGBM\", \"run_properties\": \"<azureml.automl.runtime.shared.model_wrappers.SparseNormalizer object at 0x7fb2c9c25390\", \"primary_metric\": 0.81813983, \"best_metric\": 0.81813983}, {\"run_id\": \"AutoML_403bfcca-9e31-499a-aac1-2ca5a9498287_21\", \"run_number\": 26, \"metric\": null, \"status\": \"Completed\", \"run_type\": \"azureml.scriptrun\", \"training_percent\": \"100\", \"start_time\": \"2021-05-19T15:41:34.547689Z\", \"end_time\": \"2021-05-19T15:42:17.337244Z\", \"created_time\": \"2021-05-19T15:41:22.078863Z\", \"created_time_dt\": \"2021-05-19T15:41:22.078863Z\", \"duration\": \"0:00:55\", \"iteration\": \"21\", \"goal\": \"accuracy_max\", \"run_name\": \"SparseNormalizer, XGBoostClassifier\", \"run_properties\": \"<azureml.automl.runtime.shared.model_wrappers.SparseNormalizer object at 0x7fa45009bf60\", \"primary_metric\": 0.80694132, \"best_metric\": 0.81813983}, {\"run_id\": \"AutoML_403bfcca-9e31-499a-aac1-2ca5a9498287_22\", \"run_number\": 27, \"metric\": null, \"status\": \"Completed\", \"run_type\": \"azureml.scriptrun\", \"training_percent\": \"100\", \"start_time\": \"2021-05-19T15:42:32.315501Z\", \"end_time\": \"2021-05-19T15:43:17.856805Z\", \"created_time\": \"2021-05-19T15:42:19.980073Z\", \"created_time_dt\": \"2021-05-19T15:42:19.980073Z\", \"duration\": \"0:00:57\", \"iteration\": \"22\", \"goal\": \"accuracy_max\", \"run_name\": \"SparseNormalizer, XGBoostClassifier\", \"run_properties\": \"<azureml.automl.runtime.shared.model_wrappers.SparseNormalizer object at 0x7fe0e45e2ba8\", \"primary_metric\": 0.81142322, \"best_metric\": 0.81813983}, {\"run_id\": \"AutoML_403bfcca-9e31-499a-aac1-2ca5a9498287_23\", \"run_number\": 28, \"metric\": null, \"status\": \"Completed\", \"run_type\": \"azureml.scriptrun\", \"training_percent\": \"100\", \"start_time\": \"2021-05-19T15:43:31.898573Z\", \"end_time\": \"2021-05-19T15:44:20.333365Z\", \"created_time\": \"2021-05-19T15:43:19.822176Z\", \"created_time_dt\": \"2021-05-19T15:43:19.822176Z\", \"duration\": \"0:01:00\", \"iteration\": \"23\", \"goal\": \"accuracy_max\", \"run_name\": \"StandardScalerWrapper, XGBoostClassifier\", \"run_properties\": \"<azureml.automl.runtime.shared.model_wrappers.StandardScalerWrapper object at 0x7fd20295d358\", \"primary_metric\": 0.79007491, \"best_metric\": 0.81813983}, {\"run_id\": \"AutoML_403bfcca-9e31-499a-aac1-2ca5a9498287_24\", \"run_number\": 29, \"metric\": null, \"status\": \"Completed\", \"run_type\": \"azureml.scriptrun\", \"training_percent\": \"100\", \"start_time\": \"2021-05-19T15:44:33.686063Z\", \"end_time\": \"2021-05-19T15:45:18.525822Z\", \"created_time\": \"2021-05-19T15:44:22.813996Z\", \"created_time_dt\": \"2021-05-19T15:44:22.813996Z\", \"duration\": \"0:00:55\", \"iteration\": \"24\", \"goal\": \"accuracy_max\", \"run_name\": \"SparseNormalizer, LightGBM\", \"run_properties\": \"<azureml.automl.runtime.shared.model_wrappers.SparseNormalizer object at 0x7f87457f8c88\", \"primary_metric\": 0.82156055, \"best_metric\": 0.82156055}, {\"run_id\": \"AutoML_403bfcca-9e31-499a-aac1-2ca5a9498287_25\", \"run_number\": 30, \"metric\": null, \"status\": \"Completed\", \"run_type\": \"azureml.scriptrun\", \"training_percent\": \"100\", \"start_time\": \"2021-05-19T15:45:33.68137Z\", \"end_time\": \"2021-05-19T15:46:19.225403Z\", \"created_time\": \"2021-05-19T15:45:21.513344Z\", \"created_time_dt\": \"2021-05-19T15:45:21.513344Z\", \"duration\": \"0:00:57\", \"iteration\": \"25\", \"goal\": \"accuracy_max\", \"run_name\": \"StandardScalerWrapper, LightGBM\", \"run_properties\": \"<azureml.automl.runtime.shared.model_wrappers.StandardScalerWrapper object at 0x7ffb37135160\", \"primary_metric\": 0.61610487, \"best_metric\": 0.82156055}, {\"run_id\": \"AutoML_403bfcca-9e31-499a-aac1-2ca5a9498287_26\", \"run_number\": 31, \"metric\": null, \"status\": \"Completed\", \"run_type\": \"azureml.scriptrun\", \"training_percent\": \"100\", \"start_time\": \"2021-05-19T15:46:35.517139Z\", \"end_time\": \"2021-05-19T15:47:21.752114Z\", \"created_time\": \"2021-05-19T15:46:21.165324Z\", \"created_time_dt\": \"2021-05-19T15:46:21.165324Z\", \"duration\": \"0:01:00\", \"iteration\": \"26\", \"goal\": \"accuracy_max\", \"run_name\": \"StandardScalerWrapper, XGBoostClassifier\", \"run_properties\": \"<azureml.automl.runtime.shared.model_wrappers.StandardScalerWrapper object at 0x7f870a026f98\", \"primary_metric\": 0.80018727, \"best_metric\": 0.82156055}, {\"run_id\": \"AutoML_403bfcca-9e31-499a-aac1-2ca5a9498287_27\", \"run_number\": 32, \"metric\": null, \"status\": \"Completed\", \"run_type\": \"azureml.scriptrun\", \"training_percent\": \"100\", \"start_time\": \"2021-05-19T15:47:38.293749Z\", \"end_time\": \"2021-05-19T15:48:24.468389Z\", \"created_time\": \"2021-05-19T15:47:24.046503Z\", \"created_time_dt\": \"2021-05-19T15:47:24.046503Z\", \"duration\": \"0:01:00\", \"iteration\": \"27\", \"goal\": \"accuracy_max\", \"run_name\": \"SparseNormalizer, LightGBM\", \"run_properties\": \"<azureml.automl.runtime.shared.model_wrappers.SparseNormalizer object at 0x7fc37dcab710\", \"primary_metric\": 0.79460674, \"best_metric\": 0.82156055}, {\"run_id\": \"AutoML_403bfcca-9e31-499a-aac1-2ca5a9498287_28\", \"run_number\": 33, \"metric\": null, \"status\": \"Completed\", \"run_type\": \"azureml.scriptrun\", \"training_percent\": \"100\", \"start_time\": \"2021-05-19T15:48:39.153142Z\", \"end_time\": \"2021-05-19T15:49:30.488019Z\", \"created_time\": \"2021-05-19T15:48:26.551245Z\", \"created_time_dt\": \"2021-05-19T15:48:26.551245Z\", \"duration\": \"0:01:03\", \"iteration\": \"28\", \"goal\": \"accuracy_max\", \"run_name\": \"MaxAbsScaler, ExtremeRandomTrees\", \"run_properties\": \"copy=True\", \"primary_metric\": 0.77661673, \"best_metric\": 0.82156055}, {\"run_id\": \"AutoML_403bfcca-9e31-499a-aac1-2ca5a9498287_29\", \"run_number\": 34, \"metric\": null, \"status\": \"Completed\", \"run_type\": \"azureml.scriptrun\", \"training_percent\": \"100\", \"start_time\": \"2021-05-19T15:49:44.935143Z\", \"end_time\": \"2021-05-19T15:50:33.259846Z\", \"created_time\": \"2021-05-19T15:49:32.642673Z\", \"created_time_dt\": \"2021-05-19T15:49:32.642673Z\", \"duration\": \"0:01:00\", \"iteration\": \"29\", \"goal\": \"accuracy_max\", \"run_name\": \"MaxAbsScaler, LogisticRegression\", \"run_properties\": \"copy=True\", \"primary_metric\": 0.8080774, \"best_metric\": 0.82156055}, {\"run_id\": \"AutoML_403bfcca-9e31-499a-aac1-2ca5a9498287_30\", \"run_number\": 35, \"metric\": null, \"status\": \"Completed\", \"run_type\": \"azureml.scriptrun\", \"training_percent\": \"100\", \"start_time\": \"2021-05-19T15:50:48.785758Z\", \"end_time\": \"2021-05-19T15:51:34.246079Z\", \"created_time\": \"2021-05-19T15:50:36.561866Z\", \"created_time_dt\": \"2021-05-19T15:50:36.561866Z\", \"duration\": \"0:00:57\", \"iteration\": \"30\", \"goal\": \"accuracy_max\", \"run_name\": \"SparseNormalizer, LightGBM\", \"run_properties\": \"<azureml.automl.runtime.shared.model_wrappers.SparseNormalizer object at 0x7f412bbcc390\", \"primary_metric\": 0.8125593, \"best_metric\": 0.82156055}, {\"run_id\": \"AutoML_403bfcca-9e31-499a-aac1-2ca5a9498287_31\", \"run_number\": 36, \"metric\": null, \"status\": \"Completed\", \"run_type\": \"azureml.scriptrun\", \"training_percent\": \"100\", \"start_time\": \"2021-05-19T15:51:50.699461Z\", \"end_time\": \"2021-05-19T15:52:36.997954Z\", \"created_time\": \"2021-05-19T15:51:36.30426Z\", \"created_time_dt\": \"2021-05-19T15:51:36.30426Z\", \"duration\": \"0:01:00\", \"iteration\": \"31\", \"goal\": \"accuracy_max\", \"run_name\": \"StandardScalerWrapper, XGBoostClassifier\", \"run_properties\": \"<azureml.automl.runtime.shared.model_wrappers.StandardScalerWrapper object at 0x7faf89483048\", \"primary_metric\": 0.81139825, \"best_metric\": 0.82156055}, {\"run_id\": \"AutoML_403bfcca-9e31-499a-aac1-2ca5a9498287_32\", \"run_number\": 37, \"metric\": null, \"status\": \"Completed\", \"run_type\": \"azureml.scriptrun\", \"training_percent\": \"100\", \"start_time\": \"2021-05-19T15:52:54.062425Z\", \"end_time\": \"2021-05-19T15:53:40.220475Z\", \"created_time\": \"2021-05-19T15:52:39.509521Z\", \"created_time_dt\": \"2021-05-19T15:52:39.509521Z\", \"duration\": \"0:01:00\", \"iteration\": \"32\", \"goal\": \"accuracy_max\", \"run_name\": \"MaxAbsScaler, LogisticRegression\", \"run_properties\": \"copy=True\", \"primary_metric\": 0.81032459, \"best_metric\": 0.82156055}, {\"run_id\": \"AutoML_403bfcca-9e31-499a-aac1-2ca5a9498287_33\", \"run_number\": 38, \"metric\": null, \"status\": \"Completed\", \"run_type\": \"azureml.scriptrun\", \"training_percent\": \"100\", \"start_time\": \"2021-05-19T15:53:56.46368Z\", \"end_time\": \"2021-05-19T15:54:42.584961Z\", \"created_time\": \"2021-05-19T15:53:42.051836Z\", \"created_time_dt\": \"2021-05-19T15:53:42.051836Z\", \"duration\": \"0:01:00\", \"iteration\": \"33\", \"goal\": \"accuracy_max\", \"run_name\": \"StandardScalerWrapper, XGBoostClassifier\", \"run_properties\": \"<azureml.automl.runtime.shared.model_wrappers.StandardScalerWrapper object at 0x7fd0a0377a20\", \"primary_metric\": 0.82604245, \"best_metric\": 0.82604245}, {\"run_id\": \"AutoML_403bfcca-9e31-499a-aac1-2ca5a9498287_34\", \"run_number\": 39, \"metric\": null, \"status\": \"Completed\", \"run_type\": \"azureml.scriptrun\", \"training_percent\": \"100\", \"start_time\": \"2021-05-19T15:54:56.622896Z\", \"end_time\": \"2021-05-19T15:55:44.897868Z\", \"created_time\": \"2021-05-19T15:54:44.427173Z\", \"created_time_dt\": \"2021-05-19T15:54:44.427173Z\", \"duration\": \"0:01:00\", \"iteration\": \"34\", \"goal\": \"accuracy_max\", \"run_name\": \"SparseNormalizer, XGBoostClassifier\", \"run_properties\": \"<azureml.automl.runtime.shared.model_wrappers.SparseNormalizer object at 0x7f3e3dc98048\", \"primary_metric\": 0.80017478, \"best_metric\": 0.82604245}, {\"run_id\": \"AutoML_403bfcca-9e31-499a-aac1-2ca5a9498287_35\", \"run_number\": 40, \"metric\": null, \"status\": \"Completed\", \"run_type\": \"azureml.scriptrun\", \"training_percent\": \"100\", \"start_time\": \"2021-05-19T15:55:58.38101Z\", \"end_time\": \"2021-05-19T15:57:27.668746Z\", \"created_time\": \"2021-05-19T15:55:48.104028Z\", \"created_time_dt\": \"2021-05-19T15:55:48.104028Z\", \"duration\": \"0:01:39\", \"iteration\": \"35\", \"goal\": \"accuracy_max\", \"run_name\": \"TruncatedSVDWrapper, XGBoostClassifier\", \"run_properties\": \"n_components=0.20789473684210527, random_state=None\", \"primary_metric\": 0.61610487, \"best_metric\": 0.82604245}, {\"run_id\": \"AutoML_403bfcca-9e31-499a-aac1-2ca5a9498287_36\", \"run_number\": 41, \"metric\": null, \"status\": \"Completed\", \"run_type\": \"azureml.scriptrun\", \"training_percent\": \"100\", \"start_time\": \"2021-05-19T15:57:40.216145Z\", \"end_time\": \"2021-05-19T15:58:24.954309Z\", \"created_time\": \"2021-05-19T15:57:29.840227Z\", \"created_time_dt\": \"2021-05-19T15:57:29.840227Z\", \"duration\": \"0:00:55\", \"iteration\": \"36\", \"goal\": \"accuracy_max\", \"run_name\": \"StandardScalerWrapper, XGBoostClassifier\", \"run_properties\": \"<azureml.automl.runtime.shared.model_wrappers.StandardScalerWrapper object at 0x7ff446ffdb00\", \"primary_metric\": 0.81032459, \"best_metric\": 0.82604245}, {\"run_id\": \"AutoML_403bfcca-9e31-499a-aac1-2ca5a9498287_37\", \"run_number\": 42, \"metric\": null, \"status\": \"Completed\", \"run_type\": \"azureml.scriptrun\", \"training_percent\": \"100\", \"start_time\": \"2021-05-19T15:58:39.358194Z\", \"end_time\": \"2021-05-19T15:59:25.077052Z\", \"created_time\": \"2021-05-19T15:58:27.094409Z\", \"created_time_dt\": \"2021-05-19T15:58:27.094409Z\", \"duration\": \"0:00:57\", \"iteration\": \"37\", \"goal\": \"accuracy_max\", \"run_name\": \"MaxAbsScaler, LogisticRegression\", \"run_properties\": \"copy=True\", \"primary_metric\": 0.79574282, \"best_metric\": 0.82604245}, {\"run_id\": \"AutoML_403bfcca-9e31-499a-aac1-2ca5a9498287_38\", \"run_number\": 43, \"metric\": null, \"status\": \"Completed\", \"run_type\": \"azureml.scriptrun\", \"training_percent\": \"100\", \"start_time\": \"2021-05-19T15:59:34.996918Z\", \"end_time\": \"2021-05-19T16:00:21.959347Z\", \"created_time\": \"2021-05-19T15:59:27.158055Z\", \"created_time_dt\": \"2021-05-19T15:59:27.158055Z\", \"duration\": \"0:00:54\", \"iteration\": \"38\", \"goal\": \"accuracy_max\", \"run_name\": \"SparseNormalizer, XGBoostClassifier\", \"run_properties\": \"<azureml.automl.runtime.shared.model_wrappers.SparseNormalizer object at 0x7f1ec59394a8\", \"primary_metric\": 0.8125593, \"best_metric\": 0.82604245}, {\"run_id\": \"AutoML_403bfcca-9e31-499a-aac1-2ca5a9498287_39\", \"run_number\": 44, \"metric\": null, \"status\": \"Completed\", \"run_type\": \"azureml.scriptrun\", \"training_percent\": \"100\", \"start_time\": \"2021-05-19T16:00:33.780543Z\", \"end_time\": \"2021-05-19T16:01:18.549983Z\", \"created_time\": \"2021-05-19T16:00:23.833841Z\", \"created_time_dt\": \"2021-05-19T16:00:23.833841Z\", \"duration\": \"0:00:54\", \"iteration\": \"39\", \"goal\": \"accuracy_max\", \"run_name\": \"StandardScalerWrapper, XGBoostClassifier\", \"run_properties\": \"<azureml.automl.runtime.shared.model_wrappers.StandardScalerWrapper object at 0x7f7f1ae907f0\", \"primary_metric\": 0.81253433, \"best_metric\": 0.82604245}, {\"run_id\": \"AutoML_403bfcca-9e31-499a-aac1-2ca5a9498287_40\", \"run_number\": 45, \"metric\": null, \"status\": \"Completed\", \"run_type\": \"azureml.scriptrun\", \"training_percent\": \"100\", \"start_time\": \"2021-05-19T16:01:29.606467Z\", \"end_time\": \"2021-05-19T16:02:19.349853Z\", \"created_time\": \"2021-05-19T16:01:21.829506Z\", \"created_time_dt\": \"2021-05-19T16:01:21.829506Z\", \"duration\": \"0:00:57\", \"iteration\": \"40\", \"goal\": \"accuracy_max\", \"run_name\": \"StandardScalerWrapper, XGBoostClassifier\", \"run_properties\": \"<azureml.automl.runtime.shared.model_wrappers.StandardScalerWrapper object at 0x7f1bb1f95ac8\", \"primary_metric\": 0.81705368, \"best_metric\": 0.82604245}, {\"run_id\": \"AutoML_403bfcca-9e31-499a-aac1-2ca5a9498287_41\", \"run_number\": 46, \"metric\": null, \"status\": \"Completed\", \"run_type\": \"azureml.scriptrun\", \"training_percent\": \"100\", \"start_time\": \"2021-05-19T16:02:31.407058Z\", \"end_time\": \"2021-05-19T16:03:16.18866Z\", \"created_time\": \"2021-05-19T16:02:21.377092Z\", \"created_time_dt\": \"2021-05-19T16:02:21.377092Z\", \"duration\": \"0:00:54\", \"iteration\": \"41\", \"goal\": \"accuracy_max\", \"run_name\": \"StandardScalerWrapper, XGBoostClassifier\", \"run_properties\": \"<azureml.automl.runtime.shared.model_wrappers.StandardScalerWrapper object at 0x7f050fd5ad68\", \"primary_metric\": 0.8203995, \"best_metric\": 0.82604245}, {\"run_id\": \"AutoML_403bfcca-9e31-499a-aac1-2ca5a9498287_42\", \"run_number\": 47, \"metric\": null, \"status\": \"Completed\", \"run_type\": \"azureml.scriptrun\", \"training_percent\": \"100\", \"start_time\": \"2021-05-19T16:03:26.258699Z\", \"end_time\": \"2021-05-19T16:04:07.484233Z\", \"created_time\": \"2021-05-19T16:03:18.508277Z\", \"created_time_dt\": \"2021-05-19T16:03:18.508277Z\", \"duration\": \"0:00:48\", \"iteration\": \"42\", \"goal\": \"accuracy_max\", \"run_name\": \"StandardScalerWrapper, XGBoostClassifier\", \"run_properties\": \"<azureml.automl.runtime.shared.model_wrappers.StandardScalerWrapper object at 0x7f38141b34e0\", \"primary_metric\": 0.80918851, \"best_metric\": 0.82604245}, {\"run_id\": \"AutoML_403bfcca-9e31-499a-aac1-2ca5a9498287_43\", \"run_number\": 48, \"metric\": null, \"status\": \"Completed\", \"run_type\": \"azureml.scriptrun\", \"training_percent\": \"100\", \"start_time\": \"2021-05-19T16:04:18.127564Z\", \"end_time\": \"2021-05-19T16:05:05.086527Z\", \"created_time\": \"2021-05-19T16:04:09.780869Z\", \"created_time_dt\": \"2021-05-19T16:04:09.780869Z\", \"duration\": \"0:00:55\", \"iteration\": \"43\", \"goal\": \"accuracy_max\", \"run_name\": \"SparseNormalizer, XGBoostClassifier\", \"run_properties\": \"<azureml.automl.runtime.shared.model_wrappers.SparseNormalizer object at 0x7f7bb772a470\", \"primary_metric\": 0.81479401, \"best_metric\": 0.82604245}, {\"run_id\": \"AutoML_403bfcca-9e31-499a-aac1-2ca5a9498287_44\", \"run_number\": 49, \"metric\": null, \"status\": \"Completed\", \"run_type\": \"azureml.scriptrun\", \"training_percent\": \"100\", \"start_time\": \"2021-05-19T16:05:16.156249Z\", \"end_time\": \"2021-05-19T16:06:28.467962Z\", \"created_time\": \"2021-05-19T16:05:06.031694Z\", \"created_time_dt\": \"2021-05-19T16:05:06.031694Z\", \"duration\": \"0:01:22\", \"iteration\": \"44\", \"goal\": \"accuracy_max\", \"run_name\": \"VotingEnsemble\", \"run_properties\": \"classification_labels=None,\\n                              estimators=[('33',\\n                                           Pipeline(memory=None,\\n                                                    steps=[('standardscalerwrapper',\\n                                                            <azureml.automl.runtime.shared.model_wrappers.StandardScalerWrapper object at 0x7fceb47cf550>\", \"primary_metric\": 0.83275905, \"best_metric\": 0.83275905}, {\"run_id\": \"AutoML_403bfcca-9e31-499a-aac1-2ca5a9498287_45\", \"run_number\": 50, \"metric\": null, \"status\": \"Completed\", \"run_type\": \"azureml.scriptrun\", \"training_percent\": \"100\", \"start_time\": \"2021-05-19T16:06:37.056707Z\", \"end_time\": \"2021-05-19T16:07:54.78066Z\", \"created_time\": \"2021-05-19T16:06:29.338131Z\", \"created_time_dt\": \"2021-05-19T16:06:29.338131Z\", \"duration\": \"0:01:25\", \"iteration\": \"45\", \"goal\": \"accuracy_max\", \"run_name\": \"StackEnsemble\", \"run_properties\": \"base_learners=[('33',\\n                                        Pipeline(memory=None,\\n                                                 steps=[('standardscalerwrapper',\\n                                                         <azureml.automl.runtime.shared.model_wrappers.StandardScalerWrapper object at 0x7f1170274748>\", \"primary_metric\": 0.82491885, \"best_metric\": 0.83275905}], \"children_metrics\": {\"categories\": [0], \"series\": {\"f1_score_micro\": [{\"categories\": [\"0\", \"1\", \"2\", \"3\", \"4\", \"5\", \"6\", \"7\", \"8\", \"9\", \"10\", \"11\", \"12\", \"13\", \"14\", \"15\", \"16\", \"17\", \"18\", \"19\", \"20\", \"21\", \"22\", \"23\", \"24\", \"25\", \"26\", \"27\", \"28\", \"29\", \"30\", \"31\", \"32\", \"33\", \"34\", \"35\", \"36\", \"37\", \"38\", \"39\", \"40\", \"41\", \"42\", \"43\", \"44\", \"45\"], \"mode\": \"markers\", \"name\": \"f1_score_micro\", \"stepped\": false, \"type\": \"scatter\", \"data\": [0.7991011235955054, 0.8148189762796505, 0.799076154806492, 0.7754681647940075, 0.8024843945068664, 0.7609488139825219, 0.7956928838951309, 0.7451560549313359, 0.795705368289638, 0.8080774032459426, 0.7867540574282147, 0.7676279650436955, 0.7991011235955057, 0.8091635455680398, 0.8091760299625468, 0.8080274656679152, 0.7867041198501873, 0.7766666666666666, 0.7754806491885144, 0.8012983770287139, 0.8181398252184768, 0.8069413233458178, 0.8114232209737826, 0.7900749063670413, 0.8215605493133584, 0.6161048689138577, 0.800187265917603, 0.7946067415730338, 0.7766167290886391, 0.8080774032459426, 0.8125593008739076, 0.811398252184769, 0.8103245942571785, 0.8260424469413232, 0.800174781523096, 0.6161048689138577, 0.8103245942571785, 0.7957428214731584, 0.8125593008739076, 0.8125343320848939, 0.8170536828963796, 0.8203995006242197, 0.8091885143570536, 0.8147940074906368, 0.8327590511860175, 0.8249188514357055]}, {\"categories\": [\"0\", \"1\", \"2\", \"3\", \"4\", \"5\", \"6\", \"7\", \"8\", \"9\", \"10\", \"11\", \"12\", \"13\", \"14\", \"15\", \"16\", \"17\", \"18\", \"19\", \"20\", \"21\", \"22\", \"23\", \"24\", \"25\", \"26\", \"27\", \"28\", \"29\", \"30\", \"31\", \"32\", \"33\", \"34\", \"35\", \"36\", \"37\", \"38\", \"39\", \"40\", \"41\", \"42\", \"43\", \"44\", \"45\"], \"mode\": \"lines\", \"name\": \"f1_score_micro_max\", \"stepped\": true, \"type\": \"scatter\", \"data\": [0.7991011235955054, 0.8148189762796505, 0.8148189762796505, 0.8148189762796505, 0.8148189762796505, 0.8148189762796505, 0.8148189762796505, 0.8148189762796505, 0.8148189762796505, 0.8148189762796505, 0.8148189762796505, 0.8148189762796505, 0.8148189762796505, 0.8148189762796505, 0.8148189762796505, 0.8148189762796505, 0.8148189762796505, 0.8148189762796505, 0.8148189762796505, 0.8148189762796505, 0.8181398252184768, 0.8181398252184768, 0.8181398252184768, 0.8181398252184768, 0.8215605493133584, 0.8215605493133584, 0.8215605493133584, 0.8215605493133584, 0.8215605493133584, 0.8215605493133584, 0.8215605493133584, 0.8215605493133584, 0.8215605493133584, 0.8260424469413232, 0.8260424469413232, 0.8260424469413232, 0.8260424469413232, 0.8260424469413232, 0.8260424469413232, 0.8260424469413232, 0.8260424469413232, 0.8260424469413232, 0.8260424469413232, 0.8260424469413232, 0.8327590511860175, 0.8327590511860175]}], \"precision_score_micro\": [{\"categories\": [\"0\", \"1\", \"2\", \"3\", \"4\", \"5\", \"6\", \"7\", \"8\", \"9\", \"10\", \"11\", \"12\", \"13\", \"14\", \"15\", \"16\", \"17\", \"18\", \"19\", \"20\", \"21\", \"22\", \"23\", \"24\", \"25\", \"26\", \"27\", \"28\", \"29\", \"30\", \"31\", \"32\", \"33\", \"34\", \"35\", \"36\", \"37\", \"38\", \"39\", \"40\", \"41\", \"42\", \"43\", \"44\", \"45\"], \"mode\": \"markers\", \"name\": \"precision_score_micro\", \"stepped\": false, \"type\": \"scatter\", \"data\": [0.7991011235955057, 0.8148189762796504, 0.799076154806492, 0.7754681647940075, 0.8024843945068664, 0.7609488139825217, 0.7956928838951312, 0.7451560549313359, 0.795705368289638, 0.8080774032459426, 0.7867540574282147, 0.7676279650436955, 0.7991011235955057, 0.80916354556804, 0.8091760299625468, 0.8080274656679152, 0.7867041198501873, 0.7766666666666666, 0.7754806491885143, 0.8012983770287139, 0.8181398252184768, 0.8069413233458176, 0.8114232209737828, 0.7900749063670413, 0.8215605493133584, 0.6161048689138577, 0.800187265917603, 0.7946067415730337, 0.7766167290886391, 0.8080774032459426, 0.8125593008739076, 0.811398252184769, 0.8103245942571785, 0.8260424469413232, 0.800174781523096, 0.6161048689138577, 0.8103245942571785, 0.7957428214731584, 0.8125593008739076, 0.8125343320848939, 0.8170536828963794, 0.8203995006242197, 0.8091885143570536, 0.8147940074906368, 0.8327590511860177, 0.8249188514357055]}, {\"categories\": [\"0\", \"1\", \"2\", \"3\", \"4\", \"5\", \"6\", \"7\", \"8\", \"9\", \"10\", \"11\", \"12\", \"13\", \"14\", \"15\", \"16\", \"17\", \"18\", \"19\", \"20\", \"21\", \"22\", \"23\", \"24\", \"25\", \"26\", \"27\", \"28\", \"29\", \"30\", \"31\", \"32\", \"33\", \"34\", \"35\", \"36\", \"37\", \"38\", \"39\", \"40\", \"41\", \"42\", \"43\", \"44\", \"45\"], \"mode\": \"lines\", \"name\": \"precision_score_micro_max\", \"stepped\": true, \"type\": \"scatter\", \"data\": [0.7991011235955057, 0.8148189762796504, 0.8148189762796504, 0.8148189762796504, 0.8148189762796504, 0.8148189762796504, 0.8148189762796504, 0.8148189762796504, 0.8148189762796504, 0.8148189762796504, 0.8148189762796504, 0.8148189762796504, 0.8148189762796504, 0.8148189762796504, 0.8148189762796504, 0.8148189762796504, 0.8148189762796504, 0.8148189762796504, 0.8148189762796504, 0.8148189762796504, 0.8181398252184768, 0.8181398252184768, 0.8181398252184768, 0.8181398252184768, 0.8215605493133584, 0.8215605493133584, 0.8215605493133584, 0.8215605493133584, 0.8215605493133584, 0.8215605493133584, 0.8215605493133584, 0.8215605493133584, 0.8215605493133584, 0.8260424469413232, 0.8260424469413232, 0.8260424469413232, 0.8260424469413232, 0.8260424469413232, 0.8260424469413232, 0.8260424469413232, 0.8260424469413232, 0.8260424469413232, 0.8260424469413232, 0.8260424469413232, 0.8327590511860177, 0.8327590511860177]}], \"average_precision_score_micro\": [{\"categories\": [\"0\", \"1\", \"2\", \"3\", \"4\", \"5\", \"6\", \"7\", \"8\", \"9\", \"10\", \"11\", \"12\", \"13\", \"14\", \"15\", \"16\", \"17\", \"18\", \"19\", \"20\", \"21\", \"22\", \"23\", \"24\", \"25\", \"26\", \"27\", \"28\", \"29\", \"30\", \"31\", \"32\", \"33\", \"34\", \"35\", \"36\", \"37\", \"38\", \"39\", \"40\", \"41\", \"42\", \"43\", \"44\", \"45\"], \"mode\": \"markers\", \"name\": \"average_precision_score_micro\", \"stepped\": false, \"type\": \"scatter\", \"data\": [0.8542154781707388, 0.8639152530715932, 0.8597440184668864, 0.8486008013891564, 0.8608364453837234, 0.8156420881707807, 0.8472751987674583, 0.8092205378463708, 0.8522409671610831, 0.8564448359955277, 0.8507731045562578, 0.8161740201053599, 0.8490457613160218, 0.8593131965831393, 0.8567418317657136, 0.8550994672641347, 0.8287199825660352, 0.8466188128701184, 0.832531233504695, 0.8669376693829662, 0.8572396796524556, 0.8674053183268603, 0.8615037569234124, 0.8541300828434597, 0.8519330252857872, 0.765906936404025, 0.8479445308893329, 0.8452810475560565, 0.8597765178331574, 0.8570912574957127, 0.8613454231069395, 0.8654182337516524, 0.8610654346649289, 0.8736698419863501, 0.8520239327279897, 0.5743670131436828, 0.8663194209939175, 0.8485576905102755, 0.8401558161739612, 0.8660809314235784, 0.8707792431728076, 0.8580842555871759, 0.8685906933502257, 0.8619831780053484, 0.8696648664771922, 0.8711389333398765]}, {\"categories\": [\"0\", \"1\", \"2\", \"3\", \"4\", \"5\", \"6\", \"7\", \"8\", \"9\", \"10\", \"11\", \"12\", \"13\", \"14\", \"15\", \"16\", \"17\", \"18\", \"19\", \"20\", \"21\", \"22\", \"23\", \"24\", \"25\", \"26\", \"27\", \"28\", \"29\", \"30\", \"31\", \"32\", \"33\", \"34\", \"35\", \"36\", \"37\", \"38\", \"39\", \"40\", \"41\", \"42\", \"43\", \"44\", \"45\"], \"mode\": \"lines\", \"name\": \"average_precision_score_micro_max\", \"stepped\": true, \"type\": \"scatter\", \"data\": [0.8542154781707388, 0.8639152530715932, 0.8639152530715932, 0.8639152530715932, 0.8639152530715932, 0.8639152530715932, 0.8639152530715932, 0.8639152530715932, 0.8639152530715932, 0.8639152530715932, 0.8639152530715932, 0.8639152530715932, 0.8639152530715932, 0.8639152530715932, 0.8639152530715932, 0.8639152530715932, 0.8639152530715932, 0.8639152530715932, 0.8639152530715932, 0.8669376693829662, 0.8669376693829662, 0.8674053183268603, 0.8674053183268603, 0.8674053183268603, 0.8674053183268603, 0.8674053183268603, 0.8674053183268603, 0.8674053183268603, 0.8674053183268603, 0.8674053183268603, 0.8674053183268603, 0.8674053183268603, 0.8674053183268603, 0.8736698419863501, 0.8736698419863501, 0.8736698419863501, 0.8736698419863501, 0.8736698419863501, 0.8736698419863501, 0.8736698419863501, 0.8736698419863501, 0.8736698419863501, 0.8736698419863501, 0.8736698419863501, 0.8736698419863501, 0.8736698419863501]}], \"norm_macro_recall\": [{\"categories\": [\"0\", \"1\", \"2\", \"3\", \"4\", \"5\", \"6\", \"7\", \"8\", \"9\", \"10\", \"11\", \"12\", \"13\", \"14\", \"15\", \"16\", \"17\", \"18\", \"19\", \"20\", \"21\", \"22\", \"23\", \"24\", \"25\", \"26\", \"27\", \"28\", \"29\", \"30\", \"31\", \"32\", \"33\", \"34\", \"35\", \"36\", \"37\", \"38\", \"39\", \"40\", \"41\", \"42\", \"43\", \"44\", \"45\"], \"mode\": \"markers\", \"name\": \"norm_macro_recall\", \"stepped\": false, \"type\": \"scatter\", \"data\": [0.549400488233071, 0.5784563970641383, 0.5454285832256346, 0.4639342412684465, 0.5807997584932674, 0.5411446897621255, 0.5436570783442318, 0.3519085085734243, 0.5409519263480177, 0.5780566238036318, 0.5374318285962569, 0.4096167131691858, 0.5511456799278907, 0.5476079909766274, 0.5789098933411119, 0.5634909670780365, 0.45558582249631724, 0.4953741722445441, 0.46816430339441706, 0.5320379843244805, 0.567571045763826, 0.5619068422063689, 0.5549840814815437, 0.5209918573637036, 0.5824999752784548, 0.0, 0.5324213500282753, 0.5408792661707991, 0.5509119260594912, 0.5780566238036318, 0.561688989228247, 0.5671156101700714, 0.5808989262424079, 0.601673629010538, 0.5541883008461268, 0.0, 0.5770761925462833, 0.5848571892791095, 0.5752639065777048, 0.5718280480066561, 0.5791261350524577, 0.5607686577895319, 0.563884518897171, 0.5584076885776212, 0.6123372715065354, 0.601423630481521]}, {\"categories\": [\"0\", \"1\", \"2\", \"3\", \"4\", \"5\", \"6\", \"7\", \"8\", \"9\", \"10\", \"11\", \"12\", \"13\", \"14\", \"15\", \"16\", \"17\", \"18\", \"19\", \"20\", \"21\", \"22\", \"23\", \"24\", \"25\", \"26\", \"27\", \"28\", \"29\", \"30\", \"31\", \"32\", \"33\", \"34\", \"35\", \"36\", \"37\", \"38\", \"39\", \"40\", \"41\", \"42\", \"43\", \"44\", \"45\"], \"mode\": \"lines\", \"name\": \"norm_macro_recall_max\", \"stepped\": true, \"type\": \"scatter\", \"data\": [0.549400488233071, 0.5784563970641383, 0.5784563970641383, 0.5784563970641383, 0.5807997584932674, 0.5807997584932674, 0.5807997584932674, 0.5807997584932674, 0.5807997584932674, 0.5807997584932674, 0.5807997584932674, 0.5807997584932674, 0.5807997584932674, 0.5807997584932674, 0.5807997584932674, 0.5807997584932674, 0.5807997584932674, 0.5807997584932674, 0.5807997584932674, 0.5807997584932674, 0.5807997584932674, 0.5807997584932674, 0.5807997584932674, 0.5807997584932674, 0.5824999752784548, 0.5824999752784548, 0.5824999752784548, 0.5824999752784548, 0.5824999752784548, 0.5824999752784548, 0.5824999752784548, 0.5824999752784548, 0.5824999752784548, 0.601673629010538, 0.601673629010538, 0.601673629010538, 0.601673629010538, 0.601673629010538, 0.601673629010538, 0.601673629010538, 0.601673629010538, 0.601673629010538, 0.601673629010538, 0.601673629010538, 0.6123372715065354, 0.6123372715065354]}], \"f1_score_weighted\": [{\"categories\": [\"0\", \"1\", \"2\", \"3\", \"4\", \"5\", \"6\", \"7\", \"8\", \"9\", \"10\", \"11\", \"12\", \"13\", \"14\", \"15\", \"16\", \"17\", \"18\", \"19\", \"20\", \"21\", \"22\", \"23\", \"24\", \"25\", \"26\", \"27\", \"28\", \"29\", \"30\", \"31\", \"32\", \"33\", \"34\", \"35\", \"36\", \"37\", \"38\", \"39\", \"40\", \"41\", \"42\", \"43\", \"44\", \"45\"], \"mode\": \"markers\", \"name\": \"f1_score_weighted\", \"stepped\": false, \"type\": \"scatter\", \"data\": [0.7956951016510665, 0.8113372399491366, 0.7946728522646657, 0.7650509490526023, 0.8027825969668388, 0.7641198000127666, 0.7927556538534992, 0.7102292065491898, 0.7918503706913586, 0.8067582232311981, 0.7855726516075242, 0.7422658347194034, 0.7961942697402062, 0.8015697158420336, 0.8076673386389327, 0.8044038968318464, 0.765014479324973, 0.7702249926409551, 0.764747435769016, 0.7934923989636864, 0.8115470617820538, 0.8028142539494796, 0.8052457060059744, 0.7828034207225621, 0.8163774072128428, 0.47109803820520985, 0.793504949487128, 0.7914904965070833, 0.7795044422774273, 0.8067582232311981, 0.8071590484229956, 0.8069148169304994, 0.8087368718620376, 0.8222807694787038, 0.7972039543038529, 0.47109803820520985, 0.8080825931006805, 0.7975708652719268, 0.8084287366369155, 0.8081022427576091, 0.8122281276092563, 0.8116796095584137, 0.8048614640123983, 0.8076690146356234, 0.8288454254753205, 0.8218362731666154]}, {\"categories\": [\"0\", \"1\", \"2\", \"3\", \"4\", \"5\", \"6\", \"7\", \"8\", \"9\", \"10\", \"11\", \"12\", \"13\", \"14\", \"15\", \"16\", \"17\", \"18\", \"19\", \"20\", \"21\", \"22\", \"23\", \"24\", \"25\", \"26\", \"27\", \"28\", \"29\", \"30\", \"31\", \"32\", \"33\", \"34\", \"35\", \"36\", \"37\", \"38\", \"39\", \"40\", \"41\", \"42\", \"43\", \"44\", \"45\"], \"mode\": \"lines\", \"name\": \"f1_score_weighted_max\", \"stepped\": true, \"type\": \"scatter\", \"data\": [0.7956951016510665, 0.8113372399491366, 0.8113372399491366, 0.8113372399491366, 0.8113372399491366, 0.8113372399491366, 0.8113372399491366, 0.8113372399491366, 0.8113372399491366, 0.8113372399491366, 0.8113372399491366, 0.8113372399491366, 0.8113372399491366, 0.8113372399491366, 0.8113372399491366, 0.8113372399491366, 0.8113372399491366, 0.8113372399491366, 0.8113372399491366, 0.8113372399491366, 0.8115470617820538, 0.8115470617820538, 0.8115470617820538, 0.8115470617820538, 0.8163774072128428, 0.8163774072128428, 0.8163774072128428, 0.8163774072128428, 0.8163774072128428, 0.8163774072128428, 0.8163774072128428, 0.8163774072128428, 0.8163774072128428, 0.8222807694787038, 0.8222807694787038, 0.8222807694787038, 0.8222807694787038, 0.8222807694787038, 0.8222807694787038, 0.8222807694787038, 0.8222807694787038, 0.8222807694787038, 0.8222807694787038, 0.8222807694787038, 0.8288454254753205, 0.8288454254753205]}], \"precision_score_weighted\": [{\"categories\": [\"0\", \"1\", \"2\", \"3\", \"4\", \"5\", \"6\", \"7\", \"8\", \"9\", \"10\", \"11\", \"12\", \"13\", \"14\", \"15\", \"16\", \"17\", \"18\", \"19\", \"20\", \"21\", \"22\", \"23\", \"24\", \"25\", \"26\", \"27\", \"28\", \"29\", \"30\", \"31\", \"32\", \"33\", \"34\", \"35\", \"36\", \"37\", \"38\", \"39\", \"40\", \"41\", \"42\", \"43\", \"44\", \"45\"], \"mode\": \"markers\", \"name\": \"precision_score_weighted\", \"stepped\": false, \"type\": \"scatter\", \"data\": [0.8008754698861293, 0.818842932237828, 0.8056326915447037, 0.7808987805735117, 0.8048031617172657, 0.7906579546356123, 0.7974132974664616, 0.7964430092845523, 0.8004582090629361, 0.8094895581301401, 0.7918406111988192, 0.8076150774056122, 0.8028446571130121, 0.8182611399331021, 0.8106583514305292, 0.8113503533379541, 0.8278786931886903, 0.7929222879066651, 0.78455772654641, 0.8118256053799329, 0.8238640554728125, 0.8138550533348411, 0.8161076367760763, 0.8025457797517455, 0.8257120616221147, 0.38241944760061164, 0.8065516799540979, 0.798260817706294, 0.7893510856026613, 0.8094895581301401, 0.8164038261703352, 0.815809071334056, 0.8121504307651763, 0.8310833875291646, 0.8036479303157333, 0.38241944760061164, 0.8135290347251496, 0.8040851235588302, 0.8171022861907631, 0.8171332287124633, 0.8234825318628113, 0.834334940136739, 0.8130997356107528, 0.8263406016988591, 0.8370382429054871, 0.8285041996613322]}, {\"categories\": [\"0\", \"1\", \"2\", \"3\", \"4\", \"5\", \"6\", \"7\", \"8\", \"9\", \"10\", \"11\", \"12\", \"13\", \"14\", \"15\", \"16\", \"17\", \"18\", \"19\", \"20\", \"21\", \"22\", \"23\", \"24\", \"25\", \"26\", \"27\", \"28\", \"29\", \"30\", \"31\", \"32\", \"33\", \"34\", \"35\", \"36\", \"37\", \"38\", \"39\", \"40\", \"41\", \"42\", \"43\", \"44\", \"45\"], \"mode\": \"lines\", \"name\": \"precision_score_weighted_max\", \"stepped\": true, \"type\": \"scatter\", \"data\": [0.8008754698861293, 0.818842932237828, 0.818842932237828, 0.818842932237828, 0.818842932237828, 0.818842932237828, 0.818842932237828, 0.818842932237828, 0.818842932237828, 0.818842932237828, 0.818842932237828, 0.818842932237828, 0.818842932237828, 0.818842932237828, 0.818842932237828, 0.818842932237828, 0.8278786931886903, 0.8278786931886903, 0.8278786931886903, 0.8278786931886903, 0.8278786931886903, 0.8278786931886903, 0.8278786931886903, 0.8278786931886903, 0.8278786931886903, 0.8278786931886903, 0.8278786931886903, 0.8278786931886903, 0.8278786931886903, 0.8278786931886903, 0.8278786931886903, 0.8278786931886903, 0.8278786931886903, 0.8310833875291646, 0.8310833875291646, 0.8310833875291646, 0.8310833875291646, 0.8310833875291646, 0.8310833875291646, 0.8310833875291646, 0.8310833875291646, 0.834334940136739, 0.834334940136739, 0.834334940136739, 0.8370382429054871, 0.8370382429054871]}], \"recall_score_macro\": [{\"categories\": [\"0\", \"1\", \"2\", \"3\", \"4\", \"5\", \"6\", \"7\", \"8\", \"9\", \"10\", \"11\", \"12\", \"13\", \"14\", \"15\", \"16\", \"17\", \"18\", \"19\", \"20\", \"21\", \"22\", \"23\", \"24\", \"25\", \"26\", \"27\", \"28\", \"29\", \"30\", \"31\", \"32\", \"33\", \"34\", \"35\", \"36\", \"37\", \"38\", \"39\", \"40\", \"41\", \"42\", \"43\", \"44\", \"45\"], \"mode\": \"markers\", \"name\": \"recall_score_macro\", \"stepped\": false, \"type\": \"scatter\", \"data\": [0.7747002441165355, 0.7892281985320693, 0.7727142916128173, 0.7319671206342233, 0.7903998792466337, 0.7705723448810626, 0.7718285391721159, 0.6759542542867122, 0.7704759631740088, 0.7890283119018159, 0.7687159142981284, 0.7048083565845928, 0.7755728399639453, 0.7738039954883138, 0.7894549466705559, 0.7817454835390183, 0.7277929112481587, 0.7476870861222721, 0.7340821516972085, 0.7660189921622402, 0.783785522881913, 0.7809534211031843, 0.7774920407407719, 0.7604959286818518, 0.7912499876392273, 0.5, 0.7662106750141376, 0.7704396330853995, 0.7754559630297456, 0.7890283119018159, 0.7808444946141234, 0.7835578050850358, 0.790449463121204, 0.8008368145052689, 0.7770941504230634, 0.5, 0.7885380962731416, 0.7924285946395547, 0.7876319532888525, 0.7859140240033281, 0.789563067526229, 0.7803843288947659, 0.7819422594485854, 0.7792038442888107, 0.8061686357532677, 0.8007118152407605]}, {\"categories\": [\"0\", \"1\", \"2\", \"3\", \"4\", \"5\", \"6\", \"7\", \"8\", \"9\", \"10\", \"11\", \"12\", \"13\", \"14\", \"15\", \"16\", \"17\", \"18\", \"19\", \"20\", \"21\", \"22\", \"23\", \"24\", \"25\", \"26\", \"27\", \"28\", \"29\", \"30\", \"31\", \"32\", \"33\", \"34\", \"35\", \"36\", \"37\", \"38\", \"39\", \"40\", \"41\", \"42\", \"43\", \"44\", \"45\"], \"mode\": \"lines\", \"name\": \"recall_score_macro_max\", \"stepped\": true, \"type\": \"scatter\", \"data\": [0.7747002441165355, 0.7892281985320693, 0.7892281985320693, 0.7892281985320693, 0.7903998792466337, 0.7903998792466337, 0.7903998792466337, 0.7903998792466337, 0.7903998792466337, 0.7903998792466337, 0.7903998792466337, 0.7903998792466337, 0.7903998792466337, 0.7903998792466337, 0.7903998792466337, 0.7903998792466337, 0.7903998792466337, 0.7903998792466337, 0.7903998792466337, 0.7903998792466337, 0.7903998792466337, 0.7903998792466337, 0.7903998792466337, 0.7903998792466337, 0.7912499876392273, 0.7912499876392273, 0.7912499876392273, 0.7912499876392273, 0.7912499876392273, 0.7912499876392273, 0.7912499876392273, 0.7912499876392273, 0.7912499876392273, 0.8008368145052689, 0.8008368145052689, 0.8008368145052689, 0.8008368145052689, 0.8008368145052689, 0.8008368145052689, 0.8008368145052689, 0.8008368145052689, 0.8008368145052689, 0.8008368145052689, 0.8008368145052689, 0.8061686357532677, 0.8061686357532677]}], \"recall_score_weighted\": [{\"categories\": [\"0\", \"1\", \"2\", \"3\", \"4\", \"5\", \"6\", \"7\", \"8\", \"9\", \"10\", \"11\", \"12\", \"13\", \"14\", \"15\", \"16\", \"17\", \"18\", \"19\", \"20\", \"21\", \"22\", \"23\", \"24\", \"25\", \"26\", \"27\", \"28\", \"29\", \"30\", \"31\", \"32\", \"33\", \"34\", \"35\", \"36\", \"37\", \"38\", \"39\", \"40\", \"41\", \"42\", \"43\", \"44\", \"45\"], \"mode\": \"markers\", \"name\": \"recall_score_weighted\", \"stepped\": false, \"type\": \"scatter\", \"data\": [0.7991011235955057, 0.8148189762796504, 0.799076154806492, 0.7754681647940075, 0.8024843945068664, 0.7609488139825217, 0.7956928838951312, 0.7451560549313359, 0.795705368289638, 0.8080774032459426, 0.7867540574282147, 0.7676279650436955, 0.7991011235955057, 0.80916354556804, 0.8091760299625468, 0.8080274656679152, 0.7867041198501873, 0.7766666666666666, 0.7754806491885143, 0.8012983770287139, 0.8181398252184768, 0.8069413233458176, 0.8114232209737828, 0.7900749063670413, 0.8215605493133584, 0.6161048689138577, 0.800187265917603, 0.7946067415730337, 0.7766167290886391, 0.8080774032459426, 0.8125593008739076, 0.811398252184769, 0.8103245942571785, 0.8260424469413232, 0.800174781523096, 0.6161048689138577, 0.8103245942571785, 0.7957428214731584, 0.8125593008739076, 0.8125343320848939, 0.8170536828963794, 0.8203995006242197, 0.8091885143570536, 0.8147940074906368, 0.8327590511860177, 0.8249188514357055]}, {\"categories\": [\"0\", \"1\", \"2\", \"3\", \"4\", \"5\", \"6\", \"7\", \"8\", \"9\", \"10\", \"11\", \"12\", \"13\", \"14\", \"15\", \"16\", \"17\", \"18\", \"19\", \"20\", \"21\", \"22\", \"23\", \"24\", \"25\", \"26\", \"27\", \"28\", \"29\", \"30\", \"31\", \"32\", \"33\", \"34\", \"35\", \"36\", \"37\", \"38\", \"39\", \"40\", \"41\", \"42\", \"43\", \"44\", \"45\"], \"mode\": \"lines\", \"name\": \"recall_score_weighted_max\", \"stepped\": true, \"type\": \"scatter\", \"data\": [0.7991011235955057, 0.8148189762796504, 0.8148189762796504, 0.8148189762796504, 0.8148189762796504, 0.8148189762796504, 0.8148189762796504, 0.8148189762796504, 0.8148189762796504, 0.8148189762796504, 0.8148189762796504, 0.8148189762796504, 0.8148189762796504, 0.8148189762796504, 0.8148189762796504, 0.8148189762796504, 0.8148189762796504, 0.8148189762796504, 0.8148189762796504, 0.8148189762796504, 0.8181398252184768, 0.8181398252184768, 0.8181398252184768, 0.8181398252184768, 0.8215605493133584, 0.8215605493133584, 0.8215605493133584, 0.8215605493133584, 0.8215605493133584, 0.8215605493133584, 0.8215605493133584, 0.8215605493133584, 0.8215605493133584, 0.8260424469413232, 0.8260424469413232, 0.8260424469413232, 0.8260424469413232, 0.8260424469413232, 0.8260424469413232, 0.8260424469413232, 0.8260424469413232, 0.8260424469413232, 0.8260424469413232, 0.8260424469413232, 0.8327590511860177, 0.8327590511860177]}], \"recall_score_micro\": [{\"categories\": [\"0\", \"1\", \"2\", \"3\", \"4\", \"5\", \"6\", \"7\", \"8\", \"9\", \"10\", \"11\", \"12\", \"13\", \"14\", \"15\", \"16\", \"17\", \"18\", \"19\", \"20\", \"21\", \"22\", \"23\", \"24\", \"25\", \"26\", \"27\", \"28\", \"29\", \"30\", \"31\", \"32\", \"33\", \"34\", \"35\", \"36\", \"37\", \"38\", \"39\", \"40\", \"41\", \"42\", \"43\", \"44\", \"45\"], \"mode\": \"markers\", \"name\": \"recall_score_micro\", \"stepped\": false, \"type\": \"scatter\", \"data\": [0.7991011235955057, 0.8148189762796504, 0.799076154806492, 0.7754681647940075, 0.8024843945068664, 0.7609488139825217, 0.7956928838951312, 0.7451560549313359, 0.795705368289638, 0.8080774032459426, 0.7867540574282147, 0.7676279650436955, 0.7991011235955057, 0.80916354556804, 0.8091760299625468, 0.8080274656679152, 0.7867041198501873, 0.7766666666666666, 0.7754806491885143, 0.8012983770287139, 0.8181398252184768, 0.8069413233458176, 0.8114232209737828, 0.7900749063670413, 0.8215605493133584, 0.6161048689138577, 0.800187265917603, 0.7946067415730337, 0.7766167290886391, 0.8080774032459426, 0.8125593008739076, 0.811398252184769, 0.8103245942571785, 0.8260424469413232, 0.800174781523096, 0.6161048689138577, 0.8103245942571785, 0.7957428214731584, 0.8125593008739076, 0.8125343320848939, 0.8170536828963794, 0.8203995006242197, 0.8091885143570536, 0.8147940074906368, 0.8327590511860177, 0.8249188514357055]}, {\"categories\": [\"0\", \"1\", \"2\", \"3\", \"4\", \"5\", \"6\", \"7\", \"8\", \"9\", \"10\", \"11\", \"12\", \"13\", \"14\", \"15\", \"16\", \"17\", \"18\", \"19\", \"20\", \"21\", \"22\", \"23\", \"24\", \"25\", \"26\", \"27\", \"28\", \"29\", \"30\", \"31\", \"32\", \"33\", \"34\", \"35\", \"36\", \"37\", \"38\", \"39\", \"40\", \"41\", \"42\", \"43\", \"44\", \"45\"], \"mode\": \"lines\", \"name\": \"recall_score_micro_max\", \"stepped\": true, \"type\": \"scatter\", \"data\": [0.7991011235955057, 0.8148189762796504, 0.8148189762796504, 0.8148189762796504, 0.8148189762796504, 0.8148189762796504, 0.8148189762796504, 0.8148189762796504, 0.8148189762796504, 0.8148189762796504, 0.8148189762796504, 0.8148189762796504, 0.8148189762796504, 0.8148189762796504, 0.8148189762796504, 0.8148189762796504, 0.8148189762796504, 0.8148189762796504, 0.8148189762796504, 0.8148189762796504, 0.8181398252184768, 0.8181398252184768, 0.8181398252184768, 0.8181398252184768, 0.8215605493133584, 0.8215605493133584, 0.8215605493133584, 0.8215605493133584, 0.8215605493133584, 0.8215605493133584, 0.8215605493133584, 0.8215605493133584, 0.8215605493133584, 0.8260424469413232, 0.8260424469413232, 0.8260424469413232, 0.8260424469413232, 0.8260424469413232, 0.8260424469413232, 0.8260424469413232, 0.8260424469413232, 0.8260424469413232, 0.8260424469413232, 0.8260424469413232, 0.8327590511860177, 0.8327590511860177]}], \"accuracy\": [{\"categories\": [\"0\", \"1\", \"2\", \"3\", \"4\", \"5\", \"6\", \"7\", \"8\", \"9\", \"10\", \"11\", \"12\", \"13\", \"14\", \"15\", \"16\", \"17\", \"18\", \"19\", \"20\", \"21\", \"22\", \"23\", \"24\", \"25\", \"26\", \"27\", \"28\", \"29\", \"30\", \"31\", \"32\", \"33\", \"34\", \"35\", \"36\", \"37\", \"38\", \"39\", \"40\", \"41\", \"42\", \"43\", \"44\", \"45\"], \"mode\": \"markers\", \"name\": \"accuracy\", \"stepped\": false, \"type\": \"scatter\", \"data\": [0.7991011235955057, 0.8148189762796504, 0.799076154806492, 0.7754681647940075, 0.8024843945068664, 0.7609488139825217, 0.7956928838951312, 0.7451560549313359, 0.795705368289638, 0.8080774032459426, 0.7867540574282147, 0.7676279650436955, 0.7991011235955057, 0.80916354556804, 0.8091760299625468, 0.8080274656679152, 0.7867041198501873, 0.7766666666666666, 0.7754806491885143, 0.8012983770287139, 0.8181398252184768, 0.8069413233458176, 0.8114232209737828, 0.7900749063670413, 0.8215605493133584, 0.6161048689138577, 0.800187265917603, 0.7946067415730337, 0.7766167290886391, 0.8080774032459426, 0.8125593008739076, 0.811398252184769, 0.8103245942571785, 0.8260424469413232, 0.800174781523096, 0.6161048689138577, 0.8103245942571785, 0.7957428214731584, 0.8125593008739076, 0.8125343320848939, 0.8170536828963794, 0.8203995006242197, 0.8091885143570536, 0.8147940074906368, 0.8327590511860177, 0.8249188514357055]}, {\"categories\": [\"0\", \"1\", \"2\", \"3\", \"4\", \"5\", \"6\", \"7\", \"8\", \"9\", \"10\", \"11\", \"12\", \"13\", \"14\", \"15\", \"16\", \"17\", \"18\", \"19\", \"20\", \"21\", \"22\", \"23\", \"24\", \"25\", \"26\", \"27\", \"28\", \"29\", \"30\", \"31\", \"32\", \"33\", \"34\", \"35\", \"36\", \"37\", \"38\", \"39\", \"40\", \"41\", \"42\", \"43\", \"44\", \"45\"], \"mode\": \"lines\", \"name\": \"accuracy_max\", \"stepped\": true, \"type\": \"scatter\", \"data\": [0.7991011235955057, 0.8148189762796504, 0.8148189762796504, 0.8148189762796504, 0.8148189762796504, 0.8148189762796504, 0.8148189762796504, 0.8148189762796504, 0.8148189762796504, 0.8148189762796504, 0.8148189762796504, 0.8148189762796504, 0.8148189762796504, 0.8148189762796504, 0.8148189762796504, 0.8148189762796504, 0.8148189762796504, 0.8148189762796504, 0.8148189762796504, 0.8148189762796504, 0.8181398252184768, 0.8181398252184768, 0.8181398252184768, 0.8181398252184768, 0.8215605493133584, 0.8215605493133584, 0.8215605493133584, 0.8215605493133584, 0.8215605493133584, 0.8215605493133584, 0.8215605493133584, 0.8215605493133584, 0.8215605493133584, 0.8260424469413232, 0.8260424469413232, 0.8260424469413232, 0.8260424469413232, 0.8260424469413232, 0.8260424469413232, 0.8260424469413232, 0.8260424469413232, 0.8260424469413232, 0.8260424469413232, 0.8260424469413232, 0.8327590511860177, 0.8327590511860177]}], \"weighted_accuracy\": [{\"categories\": [\"0\", \"1\", \"2\", \"3\", \"4\", \"5\", \"6\", \"7\", \"8\", \"9\", \"10\", \"11\", \"12\", \"13\", \"14\", \"15\", \"16\", \"17\", \"18\", \"19\", \"20\", \"21\", \"22\", \"23\", \"24\", \"25\", \"26\", \"27\", \"28\", \"29\", \"30\", \"31\", \"32\", \"33\", \"34\", \"35\", \"36\", \"37\", \"38\", \"39\", \"40\", \"41\", \"42\", \"43\", \"44\", \"45\"], \"mode\": \"markers\", \"name\": \"weighted_accuracy\", \"stepped\": false, \"type\": \"scatter\", \"data\": [0.8197321559690918, 0.8365615108872164, 0.8218190968708392, 0.8119442292406381, 0.8123910567632249, 0.7535434477118427, 0.8157563196144586, 0.8036553649722279, 0.8173535594778899, 0.8242206516762242, 0.8025036318271399, 0.8204651448845421, 0.8190649231870951, 0.8390007375996085, 0.8259123146514341, 0.8301359503645747, 0.8363594043359187, 0.8022109798818766, 0.8104441263726571, 0.8314354824761063, 0.8469430719747629, 0.8290767986829163, 0.8399382070794864, 0.8158951227859508, 0.8468522259083221, 0.7138631539899801, 0.8290521220079465, 0.8150417150915171, 0.7774954304351249, 0.8242206516762242, 0.8391558679711817, 0.8350091195203818, 0.8272042353603677, 0.8474071697943376, 0.8197328996804085, 0.7138631539899801, 0.8289033447777088, 0.7990182334194071, 0.8334796739552651, 0.8352242472981443, 0.8404500308519747, 0.854187931693763, 0.8323587713237502, 0.8449828729554472, 0.8552023651210938, 0.8453806136085884]}, {\"categories\": [\"0\", \"1\", \"2\", \"3\", \"4\", \"5\", \"6\", \"7\", \"8\", \"9\", \"10\", \"11\", \"12\", \"13\", \"14\", \"15\", \"16\", \"17\", \"18\", \"19\", \"20\", \"21\", \"22\", \"23\", \"24\", \"25\", \"26\", \"27\", \"28\", \"29\", \"30\", \"31\", \"32\", \"33\", \"34\", \"35\", \"36\", \"37\", \"38\", \"39\", \"40\", \"41\", \"42\", \"43\", \"44\", \"45\"], \"mode\": \"lines\", \"name\": \"weighted_accuracy_max\", \"stepped\": true, \"type\": \"scatter\", \"data\": [0.8197321559690918, 0.8365615108872164, 0.8365615108872164, 0.8365615108872164, 0.8365615108872164, 0.8365615108872164, 0.8365615108872164, 0.8365615108872164, 0.8365615108872164, 0.8365615108872164, 0.8365615108872164, 0.8365615108872164, 0.8365615108872164, 0.8390007375996085, 0.8390007375996085, 0.8390007375996085, 0.8390007375996085, 0.8390007375996085, 0.8390007375996085, 0.8390007375996085, 0.8469430719747629, 0.8469430719747629, 0.8469430719747629, 0.8469430719747629, 0.8469430719747629, 0.8469430719747629, 0.8469430719747629, 0.8469430719747629, 0.8469430719747629, 0.8469430719747629, 0.8469430719747629, 0.8469430719747629, 0.8469430719747629, 0.8474071697943376, 0.8474071697943376, 0.8474071697943376, 0.8474071697943376, 0.8474071697943376, 0.8474071697943376, 0.8474071697943376, 0.8474071697943376, 0.854187931693763, 0.854187931693763, 0.854187931693763, 0.8552023651210938, 0.8552023651210938]}], \"log_loss\": [{\"categories\": [\"0\", \"1\", \"2\", \"3\", \"4\", \"5\", \"6\", \"7\", \"8\", \"9\", \"10\", \"11\", \"12\", \"13\", \"14\", \"15\", \"16\", \"17\", \"18\", \"19\", \"20\", \"21\", \"22\", \"23\", \"24\", \"25\", \"26\", \"27\", \"28\", \"29\", \"30\", \"31\", \"32\", \"33\", \"34\", \"35\", \"36\", \"37\", \"38\", \"39\", \"40\", \"41\", \"42\", \"43\", \"44\", \"45\"], \"mode\": \"markers\", \"name\": \"log_loss\", \"stepped\": false, \"type\": \"scatter\", \"data\": [0.5427792453963554, 0.43219003850305493, 0.47139048332350664, 0.48518901318513574, 0.48568434981168596, 0.5418969241842388, 0.46623177763876955, 0.5662094498324817, 0.4523301433146846, 0.455347599217289, 0.45833064266293677, 0.5613064965466332, 0.4649935394984487, 0.46766472030130163, 0.4530442870258252, 0.44793306245543796, 0.5440789052843867, 0.4982692737511617, 0.5276141112244714, 0.43731679372043464, 0.4444229350273507, 0.4776010048219482, 0.502036801824747, 0.45790147235507506, 0.4465000668321399, 0.6672783228892405, 0.5329609301235959, 0.47309403083065993, 0.4968317141354027, 0.4546710580745252, 0.44737399670827693, 0.48627868072738095, 0.45011803712573084, 0.44420296703998413, 0.46092726900070813, 0.6673975486640952, 0.43221160048247553, 0.4716452660675287, 0.4668649457642113, 0.4760778882643715, 0.42862015870841647, 0.508018208506471, 0.4768971242682003, 0.4892037587108047, 0.43809548039967083, 0.42362432190221766]}, {\"categories\": [\"0\", \"1\", \"2\", \"3\", \"4\", \"5\", \"6\", \"7\", \"8\", \"9\", \"10\", \"11\", \"12\", \"13\", \"14\", \"15\", \"16\", \"17\", \"18\", \"19\", \"20\", \"21\", \"22\", \"23\", \"24\", \"25\", \"26\", \"27\", \"28\", \"29\", \"30\", \"31\", \"32\", \"33\", \"34\", \"35\", \"36\", \"37\", \"38\", \"39\", \"40\", \"41\", \"42\", \"43\", \"44\", \"45\"], \"mode\": \"lines\", \"name\": \"log_loss_min\", \"stepped\": true, \"type\": \"scatter\", \"data\": [0.5427792453963554, 0.43219003850305493, 0.43219003850305493, 0.43219003850305493, 0.43219003850305493, 0.43219003850305493, 0.43219003850305493, 0.43219003850305493, 0.43219003850305493, 0.43219003850305493, 0.43219003850305493, 0.43219003850305493, 0.43219003850305493, 0.43219003850305493, 0.43219003850305493, 0.43219003850305493, 0.43219003850305493, 0.43219003850305493, 0.43219003850305493, 0.43219003850305493, 0.43219003850305493, 0.43219003850305493, 0.43219003850305493, 0.43219003850305493, 0.43219003850305493, 0.43219003850305493, 0.43219003850305493, 0.43219003850305493, 0.43219003850305493, 0.43219003850305493, 0.43219003850305493, 0.43219003850305493, 0.43219003850305493, 0.43219003850305493, 0.43219003850305493, 0.43219003850305493, 0.43219003850305493, 0.43219003850305493, 0.43219003850305493, 0.43219003850305493, 0.42862015870841647, 0.42862015870841647, 0.42862015870841647, 0.42862015870841647, 0.42862015870841647, 0.42362432190221766]}], \"balanced_accuracy\": [{\"categories\": [\"0\", \"1\", \"2\", \"3\", \"4\", \"5\", \"6\", \"7\", \"8\", \"9\", \"10\", \"11\", \"12\", \"13\", \"14\", \"15\", \"16\", \"17\", \"18\", \"19\", \"20\", \"21\", \"22\", \"23\", \"24\", \"25\", \"26\", \"27\", \"28\", \"29\", \"30\", \"31\", \"32\", \"33\", \"34\", \"35\", \"36\", \"37\", \"38\", \"39\", \"40\", \"41\", \"42\", \"43\", \"44\", \"45\"], \"mode\": \"markers\", \"name\": \"balanced_accuracy\", \"stepped\": false, \"type\": \"scatter\", \"data\": [0.7747002441165355, 0.7892281985320693, 0.7727142916128173, 0.7319671206342233, 0.7903998792466337, 0.7705723448810626, 0.7718285391721159, 0.6759542542867122, 0.7704759631740088, 0.7890283119018159, 0.7687159142981284, 0.7048083565845928, 0.7755728399639453, 0.7738039954883138, 0.7894549466705559, 0.7817454835390183, 0.7277929112481587, 0.7476870861222721, 0.7340821516972085, 0.7660189921622402, 0.783785522881913, 0.7809534211031843, 0.7774920407407719, 0.7604959286818518, 0.7912499876392273, 0.5, 0.7662106750141376, 0.7704396330853995, 0.7754559630297456, 0.7890283119018159, 0.7808444946141234, 0.7835578050850358, 0.790449463121204, 0.8008368145052689, 0.7770941504230634, 0.5, 0.7885380962731416, 0.7924285946395547, 0.7876319532888525, 0.7859140240033281, 0.789563067526229, 0.7803843288947659, 0.7819422594485854, 0.7792038442888107, 0.8061686357532677, 0.8007118152407605]}, {\"categories\": [\"0\", \"1\", \"2\", \"3\", \"4\", \"5\", \"6\", \"7\", \"8\", \"9\", \"10\", \"11\", \"12\", \"13\", \"14\", \"15\", \"16\", \"17\", \"18\", \"19\", \"20\", \"21\", \"22\", \"23\", \"24\", \"25\", \"26\", \"27\", \"28\", \"29\", \"30\", \"31\", \"32\", \"33\", \"34\", \"35\", \"36\", \"37\", \"38\", \"39\", \"40\", \"41\", \"42\", \"43\", \"44\", \"45\"], \"mode\": \"lines\", \"name\": \"balanced_accuracy_max\", \"stepped\": true, \"type\": \"scatter\", \"data\": [0.7747002441165355, 0.7892281985320693, 0.7892281985320693, 0.7892281985320693, 0.7903998792466337, 0.7903998792466337, 0.7903998792466337, 0.7903998792466337, 0.7903998792466337, 0.7903998792466337, 0.7903998792466337, 0.7903998792466337, 0.7903998792466337, 0.7903998792466337, 0.7903998792466337, 0.7903998792466337, 0.7903998792466337, 0.7903998792466337, 0.7903998792466337, 0.7903998792466337, 0.7903998792466337, 0.7903998792466337, 0.7903998792466337, 0.7903998792466337, 0.7912499876392273, 0.7912499876392273, 0.7912499876392273, 0.7912499876392273, 0.7912499876392273, 0.7912499876392273, 0.7912499876392273, 0.7912499876392273, 0.7912499876392273, 0.8008368145052689, 0.8008368145052689, 0.8008368145052689, 0.8008368145052689, 0.8008368145052689, 0.8008368145052689, 0.8008368145052689, 0.8008368145052689, 0.8008368145052689, 0.8008368145052689, 0.8008368145052689, 0.8061686357532677, 0.8061686357532677]}], \"matthews_correlation\": [{\"categories\": [\"0\", \"1\", \"2\", \"3\", \"4\", \"5\", \"6\", \"7\", \"8\", \"9\", \"10\", \"11\", \"12\", \"13\", \"14\", \"15\", \"16\", \"17\", \"18\", \"19\", \"20\", \"21\", \"22\", \"23\", \"24\", \"25\", \"26\", \"27\", \"28\", \"29\", \"30\", \"31\", \"32\", \"33\", \"34\", \"35\", \"36\", \"37\", \"38\", \"39\", \"40\", \"41\", \"42\", \"43\", \"44\", \"45\"], \"mode\": \"markers\", \"name\": \"matthews_correlation\", \"stepped\": false, \"type\": \"scatter\", \"data\": [0.5671135559131529, 0.6008223663488637, 0.5706296528662056, 0.5098342256869712, 0.5794447675282768, 0.5327682347203547, 0.558946688568316, 0.4702499617631797, 0.5614978000879994, 0.5868698622023028, 0.5465611022784138, 0.5158384238743412, 0.5683948581822793, 0.5909757360498274, 0.5891117785306876, 0.5854898262443151, 0.5623324384479631, 0.5311440778464812, 0.5136623196758594, 0.575055643109601, 0.6061805594091527, 0.587217657193561, 0.5903096129163916, 0.5554124056091836, 0.6131773029222927, 0.0, 0.5686961564057287, 0.558445875483455, 0.5401881624320772, 0.5868698622023028, 0.5936687088583643, 0.5931014464503936, 0.5918227472140677, 0.625966500109083, 0.5705606824349482, 0.0, 0.5921789987175294, 0.5754620057664475, 0.5972643754981914, 0.5967102847189423, 0.6070066730092494, 0.6180913155246834, 0.5885613963634968, 0.6036995682475895, 0.6391340703093612, 0.6216212272042998]}, {\"categories\": [\"0\", \"1\", \"2\", \"3\", \"4\", \"5\", \"6\", \"7\", \"8\", \"9\", \"10\", \"11\", \"12\", \"13\", \"14\", \"15\", \"16\", \"17\", \"18\", \"19\", \"20\", \"21\", \"22\", \"23\", \"24\", \"25\", \"26\", \"27\", \"28\", \"29\", \"30\", \"31\", \"32\", \"33\", \"34\", \"35\", \"36\", \"37\", \"38\", \"39\", \"40\", \"41\", \"42\", \"43\", \"44\", \"45\"], \"mode\": \"lines\", \"name\": \"matthews_correlation_max\", \"stepped\": true, \"type\": \"scatter\", \"data\": [0.5671135559131529, 0.6008223663488637, 0.6008223663488637, 0.6008223663488637, 0.6008223663488637, 0.6008223663488637, 0.6008223663488637, 0.6008223663488637, 0.6008223663488637, 0.6008223663488637, 0.6008223663488637, 0.6008223663488637, 0.6008223663488637, 0.6008223663488637, 0.6008223663488637, 0.6008223663488637, 0.6008223663488637, 0.6008223663488637, 0.6008223663488637, 0.6008223663488637, 0.6061805594091527, 0.6061805594091527, 0.6061805594091527, 0.6061805594091527, 0.6131773029222927, 0.6131773029222927, 0.6131773029222927, 0.6131773029222927, 0.6131773029222927, 0.6131773029222927, 0.6131773029222927, 0.6131773029222927, 0.6131773029222927, 0.625966500109083, 0.625966500109083, 0.625966500109083, 0.625966500109083, 0.625966500109083, 0.625966500109083, 0.625966500109083, 0.625966500109083, 0.625966500109083, 0.625966500109083, 0.625966500109083, 0.6391340703093612, 0.6391340703093612]}], \"average_precision_score_weighted\": [{\"categories\": [\"0\", \"1\", \"2\", \"3\", \"4\", \"5\", \"6\", \"7\", \"8\", \"9\", \"10\", \"11\", \"12\", \"13\", \"14\", \"15\", \"16\", \"17\", \"18\", \"19\", \"20\", \"21\", \"22\", \"23\", \"24\", \"25\", \"26\", \"27\", \"28\", \"29\", \"30\", \"31\", \"32\", \"33\", \"34\", \"35\", \"36\", \"37\", \"38\", \"39\", \"40\", \"41\", \"42\", \"43\", \"44\", \"45\"], \"mode\": \"markers\", \"name\": \"average_precision_score_weighted\", \"stepped\": false, \"type\": \"scatter\", \"data\": [0.8514763344117247, 0.8602687772374426, 0.8650646919493159, 0.8533553418883081, 0.8582877913369453, 0.8353202278920075, 0.8387459766773091, 0.8461241643685348, 0.8542194969373229, 0.8534444364262532, 0.8505263153428432, 0.8507239213248828, 0.8422941741340451, 0.8658574993331589, 0.8535594882784541, 0.8417798769065266, 0.8626521353564346, 0.8590659823130686, 0.83774144196159, 0.864996438362868, 0.8556516911553654, 0.8500582038378892, 0.8552772923246532, 0.8398578777726927, 0.841720493165084, 0.8249109287088316, 0.8524242406820035, 0.8427616740204469, 0.8616517304775211, 0.8538781289474932, 0.8621293723898213, 0.855520526720569, 0.858022264563554, 0.8744547232135964, 0.8414171648387458, 0.5326291573735078, 0.8628004516118695, 0.852650991139012, 0.8359277405927683, 0.8593703613335663, 0.8694269022245813, 0.8559769173265485, 0.8621213686821877, 0.8555057302803297, 0.8636485295864853, 0.8635129678379917]}, {\"categories\": [\"0\", \"1\", \"2\", \"3\", \"4\", \"5\", \"6\", \"7\", \"8\", \"9\", \"10\", \"11\", \"12\", \"13\", \"14\", \"15\", \"16\", \"17\", \"18\", \"19\", \"20\", \"21\", \"22\", \"23\", \"24\", \"25\", \"26\", \"27\", \"28\", \"29\", \"30\", \"31\", \"32\", \"33\", \"34\", \"35\", \"36\", \"37\", \"38\", \"39\", \"40\", \"41\", \"42\", \"43\", \"44\", \"45\"], \"mode\": \"lines\", \"name\": \"average_precision_score_weighted_max\", \"stepped\": true, \"type\": \"scatter\", \"data\": [0.8514763344117247, 0.8602687772374426, 0.8650646919493159, 0.8650646919493159, 0.8650646919493159, 0.8650646919493159, 0.8650646919493159, 0.8650646919493159, 0.8650646919493159, 0.8650646919493159, 0.8650646919493159, 0.8650646919493159, 0.8650646919493159, 0.8658574993331589, 0.8658574993331589, 0.8658574993331589, 0.8658574993331589, 0.8658574993331589, 0.8658574993331589, 0.8658574993331589, 0.8658574993331589, 0.8658574993331589, 0.8658574993331589, 0.8658574993331589, 0.8658574993331589, 0.8658574993331589, 0.8658574993331589, 0.8658574993331589, 0.8658574993331589, 0.8658574993331589, 0.8658574993331589, 0.8658574993331589, 0.8658574993331589, 0.8744547232135964, 0.8744547232135964, 0.8744547232135964, 0.8744547232135964, 0.8744547232135964, 0.8744547232135964, 0.8744547232135964, 0.8744547232135964, 0.8744547232135964, 0.8744547232135964, 0.8744547232135964, 0.8744547232135964, 0.8744547232135964]}], \"AUC_macro\": [{\"categories\": [\"0\", \"1\", \"2\", \"3\", \"4\", \"5\", \"6\", \"7\", \"8\", \"9\", \"10\", \"11\", \"12\", \"13\", \"14\", \"15\", \"16\", \"17\", \"18\", \"19\", \"20\", \"21\", \"22\", \"23\", \"24\", \"25\", \"26\", \"27\", \"28\", \"29\", \"30\", \"31\", \"32\", \"33\", \"34\", \"35\", \"36\", \"37\", \"38\", \"39\", \"40\", \"41\", \"42\", \"43\", \"44\", \"45\"], \"mode\": \"markers\", \"name\": \"AUC_macro\", \"stepped\": false, \"type\": \"scatter\", \"data\": [0.8423822187044472, 0.8588824385808749, 0.8576895889727167, 0.8463168032647868, 0.8535682061954892, 0.8306173289009751, 0.8340012403241819, 0.8332241295763898, 0.8500849704796145, 0.8488989736128687, 0.8416824130796176, 0.8414967919720802, 0.8326386454537087, 0.8599516256375977, 0.8489859552698945, 0.8392363991705624, 0.8566951827730437, 0.8484093931321228, 0.8244264270449128, 0.8575763561521967, 0.8517536199905837, 0.8541050934214104, 0.8506208688857788, 0.8471428353497705, 0.844811251071049, 0.8141883163726312, 0.8513013747093533, 0.8393755472719004, 0.8515960297696594, 0.8490040548390881, 0.8539911978639699, 0.859290939953017, 0.8508784713151456, 0.8681014059656738, 0.8396227838356788, 0.5, 0.8594602821139892, 0.8493611643747991, 0.8333799072297342, 0.8623726243911071, 0.8666036713267964, 0.8532870410149798, 0.8642076150341562, 0.857788911306207, 0.8619061326529895, 0.862293983923282]}, {\"categories\": [\"0\", \"1\", \"2\", \"3\", \"4\", \"5\", \"6\", \"7\", \"8\", \"9\", \"10\", \"11\", \"12\", \"13\", \"14\", \"15\", \"16\", \"17\", \"18\", \"19\", \"20\", \"21\", \"22\", \"23\", \"24\", \"25\", \"26\", \"27\", \"28\", \"29\", \"30\", \"31\", \"32\", \"33\", \"34\", \"35\", \"36\", \"37\", \"38\", \"39\", \"40\", \"41\", \"42\", \"43\", \"44\", \"45\"], \"mode\": \"lines\", \"name\": \"AUC_macro_max\", \"stepped\": true, \"type\": \"scatter\", \"data\": [0.8423822187044472, 0.8588824385808749, 0.8588824385808749, 0.8588824385808749, 0.8588824385808749, 0.8588824385808749, 0.8588824385808749, 0.8588824385808749, 0.8588824385808749, 0.8588824385808749, 0.8588824385808749, 0.8588824385808749, 0.8588824385808749, 0.8599516256375977, 0.8599516256375977, 0.8599516256375977, 0.8599516256375977, 0.8599516256375977, 0.8599516256375977, 0.8599516256375977, 0.8599516256375977, 0.8599516256375977, 0.8599516256375977, 0.8599516256375977, 0.8599516256375977, 0.8599516256375977, 0.8599516256375977, 0.8599516256375977, 0.8599516256375977, 0.8599516256375977, 0.8599516256375977, 0.8599516256375977, 0.8599516256375977, 0.8681014059656738, 0.8681014059656738, 0.8681014059656738, 0.8681014059656738, 0.8681014059656738, 0.8681014059656738, 0.8681014059656738, 0.8681014059656738, 0.8681014059656738, 0.8681014059656738, 0.8681014059656738, 0.8681014059656738, 0.8681014059656738]}], \"AUC_weighted\": [{\"categories\": [\"0\", \"1\", \"2\", \"3\", \"4\", \"5\", \"6\", \"7\", \"8\", \"9\", \"10\", \"11\", \"12\", \"13\", \"14\", \"15\", \"16\", \"17\", \"18\", \"19\", \"20\", \"21\", \"22\", \"23\", \"24\", \"25\", \"26\", \"27\", \"28\", \"29\", \"30\", \"31\", \"32\", \"33\", \"34\", \"35\", \"36\", \"37\", \"38\", \"39\", \"40\", \"41\", \"42\", \"43\", \"44\", \"45\"], \"mode\": \"markers\", \"name\": \"AUC_weighted\", \"stepped\": false, \"type\": \"scatter\", \"data\": [0.8423822187044472, 0.8588824385808749, 0.8576895889727165, 0.8463168032647868, 0.8535682061954892, 0.8306173289009751, 0.8340012403241819, 0.8332241295763898, 0.8500849704796145, 0.8488989736128687, 0.8416824130796176, 0.8414967919720802, 0.8326386454537087, 0.8599516256375977, 0.8489859552698945, 0.8392363991705624, 0.8566951827730437, 0.8484093931321228, 0.8244264270449125, 0.8575763561521965, 0.8517536199905837, 0.8541050934214104, 0.8506208688857788, 0.8471428353497705, 0.844811251071049, 0.8141883163726311, 0.8513013747093533, 0.8393755472719004, 0.8515960297696594, 0.8490040548390881, 0.8539911978639699, 0.859290939953017, 0.8508784713151456, 0.8681014059656738, 0.8396227838356787, 0.5, 0.8594602821139892, 0.8493611643747991, 0.8333799072297342, 0.8623726243911068, 0.8666036713267964, 0.8532870410149798, 0.8642076150341562, 0.857788911306207, 0.8619061326529895, 0.862293983923282]}, {\"categories\": [\"0\", \"1\", \"2\", \"3\", \"4\", \"5\", \"6\", \"7\", \"8\", \"9\", \"10\", \"11\", \"12\", \"13\", \"14\", \"15\", \"16\", \"17\", \"18\", \"19\", \"20\", \"21\", \"22\", \"23\", \"24\", \"25\", \"26\", \"27\", \"28\", \"29\", \"30\", \"31\", \"32\", \"33\", \"34\", \"35\", \"36\", \"37\", \"38\", \"39\", \"40\", \"41\", \"42\", \"43\", \"44\", \"45\"], \"mode\": \"lines\", \"name\": \"AUC_weighted_max\", \"stepped\": true, \"type\": \"scatter\", \"data\": [0.8423822187044472, 0.8588824385808749, 0.8588824385808749, 0.8588824385808749, 0.8588824385808749, 0.8588824385808749, 0.8588824385808749, 0.8588824385808749, 0.8588824385808749, 0.8588824385808749, 0.8588824385808749, 0.8588824385808749, 0.8588824385808749, 0.8599516256375977, 0.8599516256375977, 0.8599516256375977, 0.8599516256375977, 0.8599516256375977, 0.8599516256375977, 0.8599516256375977, 0.8599516256375977, 0.8599516256375977, 0.8599516256375977, 0.8599516256375977, 0.8599516256375977, 0.8599516256375977, 0.8599516256375977, 0.8599516256375977, 0.8599516256375977, 0.8599516256375977, 0.8599516256375977, 0.8599516256375977, 0.8599516256375977, 0.8681014059656738, 0.8681014059656738, 0.8681014059656738, 0.8681014059656738, 0.8681014059656738, 0.8681014059656738, 0.8681014059656738, 0.8681014059656738, 0.8681014059656738, 0.8681014059656738, 0.8681014059656738, 0.8681014059656738, 0.8681014059656738]}], \"f1_score_macro\": [{\"categories\": [\"0\", \"1\", \"2\", \"3\", \"4\", \"5\", \"6\", \"7\", \"8\", \"9\", \"10\", \"11\", \"12\", \"13\", \"14\", \"15\", \"16\", \"17\", \"18\", \"19\", \"20\", \"21\", \"22\", \"23\", \"24\", \"25\", \"26\", \"27\", \"28\", \"29\", \"30\", \"31\", \"32\", \"33\", \"34\", \"35\", \"36\", \"37\", \"38\", \"39\", \"40\", \"41\", \"42\", \"43\", \"44\", \"45\"], \"mode\": \"markers\", \"name\": \"f1_score_macro\", \"stepped\": false, \"type\": \"scatter\", \"data\": [0.7791244638878975, 0.7947638497912768, 0.7774124437098082, 0.7410663718376533, 0.7888066469278741, 0.7539921481122211, 0.775562865786272, 0.6746194213245772, 0.7743813218811598, 0.7913152438017127, 0.7693584890197669, 0.7116576298395448, 0.7793203223220676, 0.7829770093917395, 0.7922185084793105, 0.7872924838124365, 0.7380216121076169, 0.7506057544419511, 0.7411961424768124, 0.774175194941691, 0.7931862732585472, 0.7858417518781164, 0.7862334805457127, 0.763984194102725, 0.7989670432876782, 0.38055584981125273, 0.7741944339720118, 0.7740957358048595, 0.7663192034923798, 0.7913152438017127, 0.7891883582210674, 0.7896856620852271, 0.7932971132330191, 0.8065765817305783, 0.7804579181077671, 0.38055584981125273, 0.7921378925321504, 0.7850904774799632, 0.7920373147767605, 0.791440804300884, 0.7952782620887083, 0.7927534725298793, 0.7878484848752744, 0.7885636670407297, 0.8133196207188256, 0.805817541722232]}, {\"categories\": [\"0\", \"1\", \"2\", \"3\", \"4\", \"5\", \"6\", \"7\", \"8\", \"9\", \"10\", \"11\", \"12\", \"13\", \"14\", \"15\", \"16\", \"17\", \"18\", \"19\", \"20\", \"21\", \"22\", \"23\", \"24\", \"25\", \"26\", \"27\", \"28\", \"29\", \"30\", \"31\", \"32\", \"33\", \"34\", \"35\", \"36\", \"37\", \"38\", \"39\", \"40\", \"41\", \"42\", \"43\", \"44\", \"45\"], \"mode\": \"lines\", \"name\": \"f1_score_macro_max\", \"stepped\": true, \"type\": \"scatter\", \"data\": [0.7791244638878975, 0.7947638497912768, 0.7947638497912768, 0.7947638497912768, 0.7947638497912768, 0.7947638497912768, 0.7947638497912768, 0.7947638497912768, 0.7947638497912768, 0.7947638497912768, 0.7947638497912768, 0.7947638497912768, 0.7947638497912768, 0.7947638497912768, 0.7947638497912768, 0.7947638497912768, 0.7947638497912768, 0.7947638497912768, 0.7947638497912768, 0.7947638497912768, 0.7947638497912768, 0.7947638497912768, 0.7947638497912768, 0.7947638497912768, 0.7989670432876782, 0.7989670432876782, 0.7989670432876782, 0.7989670432876782, 0.7989670432876782, 0.7989670432876782, 0.7989670432876782, 0.7989670432876782, 0.7989670432876782, 0.8065765817305783, 0.8065765817305783, 0.8065765817305783, 0.8065765817305783, 0.8065765817305783, 0.8065765817305783, 0.8065765817305783, 0.8065765817305783, 0.8065765817305783, 0.8065765817305783, 0.8065765817305783, 0.8133196207188256, 0.8133196207188256]}], \"precision_score_macro\": [{\"categories\": [\"0\", \"1\", \"2\", \"3\", \"4\", \"5\", \"6\", \"7\", \"8\", \"9\", \"10\", \"11\", \"12\", \"13\", \"14\", \"15\", \"16\", \"17\", \"18\", \"19\", \"20\", \"21\", \"22\", \"23\", \"24\", \"25\", \"26\", \"27\", \"28\", \"29\", \"30\", \"31\", \"32\", \"33\", \"34\", \"35\", \"36\", \"37\", \"38\", \"39\", \"40\", \"41\", \"42\", \"43\", \"44\", \"45\"], \"mode\": \"markers\", \"name\": \"precision_score_macro\", \"stepped\": false, \"type\": \"scatter\", \"data\": [0.7930012374168905, 0.8123430821146925, 0.7990420705708784, 0.780691288668725, 0.789129541667511, 0.7625684879928293, 0.7876328675514918, 0.8157118608082519, 0.79181413939774, 0.7980683339644277, 0.7782534921930112, 0.8256889049692495, 0.7934044560476952, 0.8193251776954366, 0.7999181203300788, 0.8045266615577458, 0.8482979206241252, 0.7864551536216402, 0.7822427093119568, 0.8111459613178429, 0.8242599073485195, 0.8075492814168165, 0.8143561645603808, 0.7973944944466542, 0.8232680754712431, 0.30805243445692887, 0.8040134101540495, 0.7887013953011663, 0.7649691317613891, 0.7980683339644277, 0.8140142091008391, 0.8104604163176301, 0.8016782314605713, 0.8259183206011576, 0.794045757663108, 0.30805243445692887, 0.8040273802177049, 0.7833105738115844, 0.8106290066127043, 0.8118879224827618, 0.8186411642985536, 0.8410212367427604, 0.8074763546511374, 0.8270117490140052, 0.833846071196169, 0.8215507919093747]}, {\"categories\": [\"0\", \"1\", \"2\", \"3\", \"4\", \"5\", \"6\", \"7\", \"8\", \"9\", \"10\", \"11\", \"12\", \"13\", \"14\", \"15\", \"16\", \"17\", \"18\", \"19\", \"20\", \"21\", \"22\", \"23\", \"24\", \"25\", \"26\", \"27\", \"28\", \"29\", \"30\", \"31\", \"32\", \"33\", \"34\", \"35\", \"36\", \"37\", \"38\", \"39\", \"40\", \"41\", \"42\", \"43\", \"44\", \"45\"], \"mode\": \"lines\", \"name\": \"precision_score_macro_max\", \"stepped\": true, \"type\": \"scatter\", \"data\": [0.7930012374168905, 0.8123430821146925, 0.8123430821146925, 0.8123430821146925, 0.8123430821146925, 0.8123430821146925, 0.8123430821146925, 0.8157118608082519, 0.8157118608082519, 0.8157118608082519, 0.8157118608082519, 0.8256889049692495, 0.8256889049692495, 0.8256889049692495, 0.8256889049692495, 0.8256889049692495, 0.8482979206241252, 0.8482979206241252, 0.8482979206241252, 0.8482979206241252, 0.8482979206241252, 0.8482979206241252, 0.8482979206241252, 0.8482979206241252, 0.8482979206241252, 0.8482979206241252, 0.8482979206241252, 0.8482979206241252, 0.8482979206241252, 0.8482979206241252, 0.8482979206241252, 0.8482979206241252, 0.8482979206241252, 0.8482979206241252, 0.8482979206241252, 0.8482979206241252, 0.8482979206241252, 0.8482979206241252, 0.8482979206241252, 0.8482979206241252, 0.8482979206241252, 0.8482979206241252, 0.8482979206241252, 0.8482979206241252, 0.8482979206241252, 0.8482979206241252]}], \"AUC_micro\": [{\"categories\": [\"0\", \"1\", \"2\", \"3\", \"4\", \"5\", \"6\", \"7\", \"8\", \"9\", \"10\", \"11\", \"12\", \"13\", \"14\", \"15\", \"16\", \"17\", \"18\", \"19\", \"20\", \"21\", \"22\", \"23\", \"24\", \"25\", \"26\", \"27\", \"28\", \"29\", \"30\", \"31\", \"32\", \"33\", \"34\", \"35\", \"36\", \"37\", \"38\", \"39\", \"40\", \"41\", \"42\", \"43\", \"44\", \"45\"], \"mode\": \"markers\", \"name\": \"AUC_micro\", \"stepped\": false, \"type\": \"scatter\", \"data\": [0.8611461422285813, 0.8782222300152276, 0.8706762364771874, 0.8618796307985803, 0.8696236430429505, 0.8261772051477475, 0.8590276402312341, 0.8145830181062685, 0.8692944976706707, 0.8688114809671431, 0.8651278676311289, 0.8253758535289066, 0.8596668957810227, 0.8751765474180994, 0.869243300742985, 0.8672967654352158, 0.8408574659328772, 0.8597399240337842, 0.8404114862663867, 0.8773601256855897, 0.8751905670346524, 0.8808474643898622, 0.8745592634674821, 0.87132832398952, 0.8703284642636155, 0.7635119053742123, 0.8675010278974004, 0.8608066726828667, 0.8630268702823093, 0.8690134756647824, 0.8742396006240638, 0.881484731164696, 0.8708386816728776, 0.883978591055812, 0.8643712244837524, 0.6161048689138577, 0.8792271816908016, 0.8574026147091416, 0.8596544799649626, 0.8811319028492786, 0.8830341816798913, 0.8750339790617534, 0.8829060522037839, 0.8772546645033283, 0.8830166754727626, 0.8833601911468343]}, {\"categories\": [\"0\", \"1\", \"2\", \"3\", \"4\", \"5\", \"6\", \"7\", \"8\", \"9\", \"10\", \"11\", \"12\", \"13\", \"14\", \"15\", \"16\", \"17\", \"18\", \"19\", \"20\", \"21\", \"22\", \"23\", \"24\", \"25\", \"26\", \"27\", \"28\", \"29\", \"30\", \"31\", \"32\", \"33\", \"34\", \"35\", \"36\", \"37\", \"38\", \"39\", \"40\", \"41\", \"42\", \"43\", \"44\", \"45\"], \"mode\": \"lines\", \"name\": \"AUC_micro_max\", \"stepped\": true, \"type\": \"scatter\", \"data\": [0.8611461422285813, 0.8782222300152276, 0.8782222300152276, 0.8782222300152276, 0.8782222300152276, 0.8782222300152276, 0.8782222300152276, 0.8782222300152276, 0.8782222300152276, 0.8782222300152276, 0.8782222300152276, 0.8782222300152276, 0.8782222300152276, 0.8782222300152276, 0.8782222300152276, 0.8782222300152276, 0.8782222300152276, 0.8782222300152276, 0.8782222300152276, 0.8782222300152276, 0.8782222300152276, 0.8808474643898622, 0.8808474643898622, 0.8808474643898622, 0.8808474643898622, 0.8808474643898622, 0.8808474643898622, 0.8808474643898622, 0.8808474643898622, 0.8808474643898622, 0.8808474643898622, 0.881484731164696, 0.881484731164696, 0.883978591055812, 0.883978591055812, 0.883978591055812, 0.883978591055812, 0.883978591055812, 0.883978591055812, 0.883978591055812, 0.883978591055812, 0.883978591055812, 0.883978591055812, 0.883978591055812, 0.883978591055812, 0.883978591055812]}], \"average_precision_score_macro\": [{\"categories\": [\"0\", \"1\", \"2\", \"3\", \"4\", \"5\", \"6\", \"7\", \"8\", \"9\", \"10\", \"11\", \"12\", \"13\", \"14\", \"15\", \"16\", \"17\", \"18\", \"19\", \"20\", \"21\", \"22\", \"23\", \"24\", \"25\", \"26\", \"27\", \"28\", \"29\", \"30\", \"31\", \"32\", \"33\", \"34\", \"35\", \"36\", \"37\", \"38\", \"39\", \"40\", \"41\", \"42\", \"43\", \"44\", \"45\"], \"mode\": \"markers\", \"name\": \"average_precision_score_macro\", \"stepped\": false, \"type\": \"scatter\", \"data\": [0.8423516188683786, 0.8520212335158182, 0.8566557629563766, 0.8440192072333861, 0.8490828197838489, 0.8222619827880061, 0.8302165928561269, 0.8342375463952747, 0.8459639886887999, 0.8437804422356396, 0.8417717528044737, 0.8394828552049672, 0.8352506546277818, 0.858474654657132, 0.8440500899094483, 0.8338613496162622, 0.8541608303904326, 0.8503569150180205, 0.8235383408287393, 0.85711768791294, 0.8491740274972701, 0.8422745847773273, 0.8473090495139829, 0.830946978848548, 0.8344487773097387, 0.8111638541224782, 0.8435810874787693, 0.8328075803840516, 0.8525901891094648, 0.8442929528659455, 0.8551209657571676, 0.8457718569926607, 0.8489019825545816, 0.866447335613481, 0.8342873104271027, 0.5, 0.8552169814742785, 0.84289782789101, 0.8277699000387214, 0.8522768215499857, 0.8607078759105218, 0.8478757471924219, 0.854131416107195, 0.8461903087865975, 0.8568174615793893, 0.8564251223227265]}, {\"categories\": [\"0\", \"1\", \"2\", \"3\", \"4\", \"5\", \"6\", \"7\", \"8\", \"9\", \"10\", \"11\", \"12\", \"13\", \"14\", \"15\", \"16\", \"17\", \"18\", \"19\", \"20\", \"21\", \"22\", \"23\", \"24\", \"25\", \"26\", \"27\", \"28\", \"29\", \"30\", \"31\", \"32\", \"33\", \"34\", \"35\", \"36\", \"37\", \"38\", \"39\", \"40\", \"41\", \"42\", \"43\", \"44\", \"45\"], \"mode\": \"lines\", \"name\": \"average_precision_score_macro_max\", \"stepped\": true, \"type\": \"scatter\", \"data\": [0.8423516188683786, 0.8520212335158182, 0.8566557629563766, 0.8566557629563766, 0.8566557629563766, 0.8566557629563766, 0.8566557629563766, 0.8566557629563766, 0.8566557629563766, 0.8566557629563766, 0.8566557629563766, 0.8566557629563766, 0.8566557629563766, 0.858474654657132, 0.858474654657132, 0.858474654657132, 0.858474654657132, 0.858474654657132, 0.858474654657132, 0.858474654657132, 0.858474654657132, 0.858474654657132, 0.858474654657132, 0.858474654657132, 0.858474654657132, 0.858474654657132, 0.858474654657132, 0.858474654657132, 0.858474654657132, 0.858474654657132, 0.858474654657132, 0.858474654657132, 0.858474654657132, 0.866447335613481, 0.866447335613481, 0.866447335613481, 0.866447335613481, 0.866447335613481, 0.866447335613481, 0.866447335613481, 0.866447335613481, 0.866447335613481, 0.866447335613481, 0.866447335613481, 0.866447335613481, 0.866447335613481]}]}, \"metricName\": null, \"primaryMetricName\": \"accuracy\", \"showLegend\": false}, \"run_metrics\": [{\"name\": \"experiment_status\", \"run_id\": \"AutoML_403bfcca-9e31-499a-aac1-2ca5a9498287\", \"categories\": [0, 1, 2, 3, 4, 5, 6, 7, 8, 9, 10, 11, 12, 13], \"series\": [{\"data\": [\"DatasetEvaluation\", \"FeaturesGeneration\", \"DatasetFeaturization\", \"DatasetFeaturizationCompleted\", \"DatasetCrossValidationSplit\", \"ModelSelection\", \"BestRunExplainModel\", \"ModelExplanationDataSetSetup\", \"PickSurrogateModel\", \"EngineeredFeatureExplanations\", \"EngineeredFeatureExplanations\", \"RawFeaturesExplanations\", \"RawFeaturesExplanations\", \"BestRunExplainModel\"]}]}, {\"name\": \"experiment_status_description\", \"run_id\": \"AutoML_403bfcca-9e31-499a-aac1-2ca5a9498287\", \"categories\": [0, 1, 2, 3, 4, 5, 6, 7, 8, 9, 10, 11, 12, 13], \"series\": [{\"data\": [\"Gathering dataset statistics.\", \"Generating features for the dataset.\", \"Beginning to fit featurizers and featurize the dataset.\", \"Completed fit featurizers and featurizing the dataset.\", \"Generating individually featurized CV splits.\", \"Beginning model selection.\", \"Best run model explanations started\", \"Model explanations data setup completed\", \"Choosing LightGBM as the surrogate model for explanations\", \"Computation of engineered features started\", \"Computation of engineered features completed\", \"Computation of raw features started\", \"Computation of raw features completed\", \"Best run model explanations completed\"]}]}, {\"name\": \"precision_score_micro\", \"run_id\": \"AutoML_403bfcca-9e31-499a-aac1-2ca5a9498287\", \"categories\": [0], \"series\": [{\"data\": [0.8327590511860177]}]}, {\"name\": \"f1_score_macro\", \"run_id\": \"AutoML_403bfcca-9e31-499a-aac1-2ca5a9498287\", \"categories\": [0], \"series\": [{\"data\": [0.8133196207188256]}]}, {\"name\": \"norm_macro_recall\", \"run_id\": \"AutoML_403bfcca-9e31-499a-aac1-2ca5a9498287\", \"categories\": [0], \"series\": [{\"data\": [0.6123372715065354]}]}, {\"name\": \"log_loss\", \"run_id\": \"AutoML_403bfcca-9e31-499a-aac1-2ca5a9498287\", \"categories\": [0], \"series\": [{\"data\": [0.43809548039967083]}]}, {\"name\": \"matthews_correlation\", \"run_id\": \"AutoML_403bfcca-9e31-499a-aac1-2ca5a9498287\", \"categories\": [0], \"series\": [{\"data\": [0.6391340703093612]}]}, {\"name\": \"average_precision_score_macro\", \"run_id\": \"AutoML_403bfcca-9e31-499a-aac1-2ca5a9498287\", \"categories\": [0], \"series\": [{\"data\": [0.8568174615793893]}]}, {\"name\": \"precision_score_macro\", \"run_id\": \"AutoML_403bfcca-9e31-499a-aac1-2ca5a9498287\", \"categories\": [0], \"series\": [{\"data\": [0.833846071196169]}]}, {\"name\": \"recall_score_weighted\", \"run_id\": \"AutoML_403bfcca-9e31-499a-aac1-2ca5a9498287\", \"categories\": [0], \"series\": [{\"data\": [0.8327590511860177]}]}, {\"name\": \"average_precision_score_weighted\", \"run_id\": \"AutoML_403bfcca-9e31-499a-aac1-2ca5a9498287\", \"categories\": [0], \"series\": [{\"data\": [0.8636485295864853]}]}, {\"name\": \"AUC_micro\", \"run_id\": \"AutoML_403bfcca-9e31-499a-aac1-2ca5a9498287\", \"categories\": [0], \"series\": [{\"data\": [0.8830166754727626]}]}, {\"name\": \"precision_score_weighted\", \"run_id\": \"AutoML_403bfcca-9e31-499a-aac1-2ca5a9498287\", \"categories\": [0], \"series\": [{\"data\": [0.8370382429054871]}]}, {\"name\": \"recall_score_micro\", \"run_id\": \"AutoML_403bfcca-9e31-499a-aac1-2ca5a9498287\", \"categories\": [0], \"series\": [{\"data\": [0.8327590511860177]}]}, {\"name\": \"weighted_accuracy\", \"run_id\": \"AutoML_403bfcca-9e31-499a-aac1-2ca5a9498287\", \"categories\": [0], \"series\": [{\"data\": [0.8552023651210938]}]}, {\"name\": \"AUC_weighted\", \"run_id\": \"AutoML_403bfcca-9e31-499a-aac1-2ca5a9498287\", \"categories\": [0], \"series\": [{\"data\": [0.8619061326529895]}]}, {\"name\": \"average_precision_score_micro\", \"run_id\": \"AutoML_403bfcca-9e31-499a-aac1-2ca5a9498287\", \"categories\": [0], \"series\": [{\"data\": [0.8696648664771922]}]}, {\"name\": \"balanced_accuracy\", \"run_id\": \"AutoML_403bfcca-9e31-499a-aac1-2ca5a9498287\", \"categories\": [0], \"series\": [{\"data\": [0.8061686357532677]}]}, {\"name\": \"accuracy\", \"run_id\": \"AutoML_403bfcca-9e31-499a-aac1-2ca5a9498287\", \"categories\": [0], \"series\": [{\"data\": [0.8327590511860177]}]}, {\"name\": \"f1_score_weighted\", \"run_id\": \"AutoML_403bfcca-9e31-499a-aac1-2ca5a9498287\", \"categories\": [0], \"series\": [{\"data\": [0.8288454254753205]}]}, {\"name\": \"recall_score_macro\", \"run_id\": \"AutoML_403bfcca-9e31-499a-aac1-2ca5a9498287\", \"categories\": [0], \"series\": [{\"data\": [0.8061686357532677]}]}, {\"name\": \"AUC_macro\", \"run_id\": \"AutoML_403bfcca-9e31-499a-aac1-2ca5a9498287\", \"categories\": [0], \"series\": [{\"data\": [0.8619061326529895]}]}, {\"name\": \"f1_score_micro\", \"run_id\": \"AutoML_403bfcca-9e31-499a-aac1-2ca5a9498287\", \"categories\": [0], \"series\": [{\"data\": [0.8327590511860175]}]}], \"run_logs\": \"\\nRun is completed.\", \"graph\": {}, \"widget_settings\": {\"childWidgetDisplay\": \"popup\", \"send_telemetry\": false, \"log_level\": \"INFO\", \"sdk_version\": \"1.27.0\"}, \"loading\": false}"
     },
     "metadata": {},
     "output_type": "display_data"
    }
   ],
   "source": [
    "RunDetails(remote_run).show()"
   ]
  },
  {
   "cell_type": "markdown",
   "metadata": {},
   "source": [
    "## Best Model\n",
    "\n",
    "TODO: In the cell below, get the best model from the automl experiments and display all the properties of the model.\n",
    "\n"
   ]
  },
  {
   "cell_type": "code",
   "execution_count": 20,
   "metadata": {
    "gather": {
     "logged": 1598431426111
    },
    "jupyter": {
     "outputs_hidden": false,
     "source_hidden": false
    },
    "nteract": {
     "transient": {
      "deleting": false
     }
    }
   },
   "outputs": [],
   "source": [
    "#TODO: Save the best model\n",
    "best_model, best_run = remote_run.get_output()"
   ]
  },
  {
   "cell_type": "code",
   "execution_count": 31,
   "metadata": {},
   "outputs": [
    {
     "data": {
      "text/plain": [
       "(Run(Experiment: predict_survival_run1,\n",
       " Id: AutoML_403bfcca-9e31-499a-aac1-2ca5a9498287_44,\n",
       " Type: azureml.scriptrun,\n",
       " Status: Completed),\n",
       " Pipeline(memory=None,\n",
       "          steps=[('datatransformer',\n",
       "                  DataTransformer(enable_dnn=None, enable_feature_sweeping=None,\n",
       "                                  feature_sweeping_config=None,\n",
       "                                  feature_sweeping_timeout=None,\n",
       "                                  featurization_config=None, force_text_dnn=None,\n",
       "                                  is_cross_validation=None,\n",
       "                                  is_onnx_compatible=None, logger=None,\n",
       "                                  observer=None, task=None, working_dir=None)),\n",
       "                 ('prefittedsoftvotingclassifier',...\n",
       "                                                                                                reg_alpha=2.0833333333333335,\n",
       "                                                                                                reg_lambda=0.3125,\n",
       "                                                                                                scale_pos_weight=1,\n",
       "                                                                                                seed=None,\n",
       "                                                                                                silent=None,\n",
       "                                                                                                subsample=1,\n",
       "                                                                                                tree_method='auto',\n",
       "                                                                                                verbose=-10,\n",
       "                                                                                                verbosity=0))],\n",
       "                                                                      verbose=False))],\n",
       "                                                flatten_transform=None,\n",
       "                                                weights=[0.16666666666666666,\n",
       "                                                         0.08333333333333333,\n",
       "                                                         0.08333333333333333,\n",
       "                                                         0.08333333333333333,\n",
       "                                                         0.08333333333333333,\n",
       "                                                         0.16666666666666666,\n",
       "                                                         0.16666666666666666,\n",
       "                                                         0.16666666666666666]))],\n",
       "          verbose=False))"
      ]
     },
     "execution_count": 31,
     "metadata": {},
     "output_type": "execute_result"
    }
   ],
   "source": [
    "remote_run.register_model()"
   ]
  },
  {
   "cell_type": "markdown",
   "metadata": {},
   "source": []
  },
  {
   "cell_type": "markdown",
   "metadata": {},
   "source": [
    "## Model Deployment\n",
    "\n",
    "Remember you have to deploy only one of the two models you trained.. Perform the steps in the rest of this notebook only if you wish to deploy this model.\n",
    "\n",
    "TODO: In the cell below, register the model, create an inference config and deploy the model as a web service."
   ]
  },
  {
   "cell_type": "code",
   "execution_count": 40,
   "metadata": {
    "gather": {
     "logged": 1598431435189
    },
    "jupyter": {
     "outputs_hidden": false,
     "source_hidden": false
    },
    "nteract": {
     "transient": {
      "deleting": false
     }
    }
   },
   "outputs": [
    {
     "name": "stdout",
     "output_type": "stream",
     "text": [
      "best_automl best_automl:3\n"
     ]
    }
   ],
   "source": [
    "model=remote_run.register_model(model_name=\"best_automl\")\n",
    "print(model.name,model.id)"
   ]
  },
  {
   "cell_type": "markdown",
   "metadata": {
    "collapsed": true,
    "gather": {
     "logged": 1598431657736
    },
    "jupyter": {
     "outputs_hidden": false,
     "source_hidden": false
    },
    "nteract": {
     "transient": {
      "deleting": false
     }
    }
   },
   "source": [
    "TODO: In the cell below, send a request to the web service you deployed to test it."
   ]
  },
  {
   "cell_type": "code",
   "execution_count": null,
   "metadata": {
    "gather": {
     "logged": 1598432707604
    },
    "jupyter": {
     "outputs_hidden": false,
     "source_hidden": false
    },
    "nteract": {
     "transient": {
      "deleting": false
     }
    }
   },
   "outputs": [],
   "source": []
  },
  {
   "cell_type": "markdown",
   "metadata": {
    "collapsed": true,
    "gather": {
     "logged": 1598432765711
    },
    "jupyter": {
     "outputs_hidden": false,
     "source_hidden": false
    },
    "nteract": {
     "transient": {
      "deleting": false
     }
    }
   },
   "source": [
    "TODO: In the cell below, print the logs of the web service and delete the service"
   ]
  },
  {
   "cell_type": "code",
   "execution_count": null,
   "metadata": {
    "jupyter": {
     "outputs_hidden": false,
     "source_hidden": false
    },
    "nteract": {
     "transient": {
      "deleting": false
     }
    }
   },
   "outputs": [],
   "source": []
  }
 ],
 "metadata": {
  "kernel_info": {
   "name": "python3"
  },
  "kernelspec": {
   "display_name": "Python 3",
   "language": "python",
   "name": "python3"
  },
  "language_info": {
   "codemirror_mode": {
    "name": "ipython",
    "version": 3
   },
   "file_extension": ".py",
   "mimetype": "text/x-python",
   "name": "python",
   "nbconvert_exporter": "python",
   "pygments_lexer": "ipython3",
   "version": "3.6.9"
  },
  "microsoft": {
   "host": {
    "AzureML": {
     "notebookHasBeenCompleted": true
    }
   }
  },
  "nteract": {
   "version": "nteract-front-end@1.0.0"
  }
 },
 "nbformat": 4,
 "nbformat_minor": 2
}
